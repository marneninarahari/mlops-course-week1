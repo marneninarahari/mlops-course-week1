{
 "cells": [
  {
   "cell_type": "markdown",
   "metadata": {},
   "source": [
    "<p align = \"center\" draggable=”false” ><img src=\"https://user-images.githubusercontent.com/37101144/161836199-fdb0219d-0361-4988-bf26-48b0fad160a3.png\"\n",
    "     width=\"200px\"\n",
    "     height=\"auto\"/>\n",
    "</p>\n",
    "\n",
    "\n",
    "\n",
    "# <h1 align=\"center\" id=\"heading\">Phase I - Proof of Concept</h1>\n",
    "\n",
    "\n",
    "\n",
    "## ☑️ Objectives\n",
    "At the end of this session, you will have a brief understanding of how to:\n",
    "- [ ] Find and run pre-trained models (Phase I)\n",
    "- [ ] Evaluate results from pre-trained models (Phase I)\n",
    "- [ ] Run a pre-trained model using real Reddit data (Phase I)\n",
    "\n",
    "\n",
    "## 🛠️ Pre-Assignment\n",
    "1. Create a virtual environment with 🐍 conda : `conda env create -f environment.yml`\n",
    "\n",
    "2. Activate your conda virtual environment: `conda activate tsla_bot`\n",
    "\n",
    "3. Create a .env file in the root directory and add the following variables:\n",
    "4. \n",
    "   `STOCK_API_KEY` : API key from [twelvedata](https://twelvedata.com/pricing)\n",
    "\n",
    "   `REDDIT_API_CLIENT_ID` : client ID of your reddit app\n",
    "   \n",
    "   `REDDIT_API_CLIENT_SECRET`: client secret of your reddit app\n",
    "   \n",
    "   Follow this tutorial to generate your own Reddit credentials:\n",
    "   <https://www.jcchouinard.com/get-reddit-api-credentials-with-praw/>\n",
    "\n",
    "4. Continue in this notebook\n",
    "\n",
    "\n",
    "\n",
    "## Background\n"
   ]
  },
  {
   "cell_type": "markdown",
   "metadata": {},
   "source": [
    "After the meeting with your boss, and reviewing your [notes](https://www.notion.so/Analyzing-Market-Sentiment-Phase-I-II-and-II-End-to-End-MLOps-with-Open-Source-Tools-dc4b846108b44f6bb2962d550368560c#54cc350bc95041ee873dabde36930af1) 📓, you're ready to get going on a Proof of Concept (POC)\n",
    "\n",
    "A POC tests the validity of your hypothesis. It's a way to prove that your idea, task, app, or whatever else works!\n",
    "\n",
    "There's no time to waste - you've got an idea - it's time to get testing it out! 🏁"
   ]
  },
  {
   "cell_type": "markdown",
   "metadata": {},
   "source": [
    "### Step 1: Initial Imports and Variable Setting 📈\n",
    "\n",
    "First things first: Let's set some variables that will help us going forward.\n",
    "\n",
    "Though your boss suggested `\"TSLA\"`, you can use any active stock-symbol and subreddit!\n",
    "\n",
    "**IMPORTANT**: Make sure you verify that your selected subreddit exists by navigating to the generated link after you run the following cell"
   ]
  },
  {
   "cell_type": "code",
   "execution_count": 2,
   "metadata": {},
   "outputs": [
    {
     "name": "stdout",
     "output_type": "stream",
     "text": [
      "reddit.com/r/teslainvestorsclub\n"
     ]
    }
   ],
   "source": [
    "from datetime import datetime, timedelta\n",
    "\n",
    "### START CODE HERE\n",
    "\n",
    "# Stock data to grab ex. \"TSLA\"\n",
    "symbol = \"TSLA\" \n",
    "\n",
    "# subreddit to check\n",
    "subreddit = 'teslainvestorsclub'\n",
    "\n",
    "# Time interval granularity\n",
    "# valid choices are \"1week\", \"1month\", \"1day\"\n",
    "interval = \"1month\"\n",
    "\n",
    "# set the beginning and end of the time range you'd like to analyze\n",
    "# ensure you use the format \"YYYY-MM-DD\"\n",
    "start_date = '2022-02-01'\n",
    "end_date = '2022-07-04'\n",
    "\n",
    "### END CODE HERE\n",
    "\n",
    "start_date_dt = datetime.strptime(start_date, '%Y-%m-%d')\n",
    "end_date_dt = datetime.strptime(end_date, '%Y-%m-%d')\n",
    "\n",
    "print(f'reddit.com/r/{subreddit}')"
   ]
  },
  {
   "cell_type": "markdown",
   "metadata": {},
   "source": [
    "In order to make sure we can import our `BotUtils.py`, we have to ensure we're running from the `TSLASentimentAnalyzer` folder. To do this, we can `cd` into that directory!"
   ]
  },
  {
   "cell_type": "code",
   "execution_count": 3,
   "metadata": {},
   "outputs": [
    {
     "name": "stdout",
     "output_type": "stream",
     "text": [
      "/home/mnarahariunix/mlops-course-fb-week1/mlops-course-week1/Week_1-Open_Source_ML_POC_and_App_Builds/Phase_I-Proof_of_concept/TSLASentimentAnalyzer\n"
     ]
    }
   ],
   "source": [
    "cd TSLASentimentAnalyzer"
   ]
  },
  {
   "cell_type": "markdown",
   "metadata": {},
   "source": [
    "### Step 2: Set Environment Variables ⛰️\n",
    "\n",
    "Use the information you created in the instructions of the `README.md` to fill in the values below!"
   ]
  },
  {
   "cell_type": "code",
   "execution_count": 4,
   "metadata": {},
   "outputs": [],
   "source": [
    "# define env variables for configuration\n",
    "import os\n",
    "os.environ['REDDIT_API_CLIENT_ID'] = \"h_NAZwIMNwJgV033tHbznQ\"\n",
    "os.environ['REDDIT_API_CLIENT_SECRET'] = \"dhKnoCKO1F-3Vpnk3Hf9V5YPS3Duug\"\n",
    "os.environ['STOCK_DATA_API_KEY'] = \"532bbdeca5114035b4900cac88ebced8\""
   ]
  },
  {
   "cell_type": "markdown",
   "metadata": {},
   "source": [
    "### Step 3: Get to Scraping 🌐\n",
    "\n",
    "Now we're going to use the `scraper` module (found in the `TSLASentimentAnalyzer` folder) to \"scrape\" the subreddit of our choosing for posts!\n",
    "\n",
    "⚗️ RESOURCES: \n",
    "\n",
    "[Web Scraping](https://www.parsehub.com/blog/what-is-web-scraping/)\n",
    "\n",
    "[Reddit Post Options](https://www.reddit.com/r/help/comments/32eu8w/what_is_the_difference_between_newrising_hot_top/)"
   ]
  },
  {
   "cell_type": "markdown",
   "metadata": {},
   "source": [
    "##### Initializing the Scraper"
   ]
  },
  {
   "cell_type": "code",
   "execution_count": 5,
   "metadata": {},
   "outputs": [],
   "source": [
    "import pandas as pd\n",
    "from loguru import logger\n",
    "from TSLASentimentAnalyzer.classifier import predict\n",
    "from TSLASentimentAnalyzer.scraper import RedditScraper\n",
    "from TSLASentimentAnalyzer.config import settings\n",
    "\n",
    "# instantiating the reddit scraper\n",
    "### YOUR LINE OF CODE HERE\n",
    "reddit = RedditScraper(\"teslainvestorsclub\")"
   ]
  },
  {
   "cell_type": "markdown",
   "metadata": {},
   "source": [
    "##### Helper Functions 🔨\n",
    "\n",
    "Here are some helper functions to assist in collecting data!"
   ]
  },
  {
   "cell_type": "code",
   "execution_count": 6,
   "metadata": {},
   "outputs": [],
   "source": [
    "from collections.abc import Callable\n",
    "\n",
    "def load_comments(number: int, scraping_option: Callable) -> pd.DataFrame:\n",
    "    '''\n",
    "    loads comments from reddit using the RedditScraper using one of the options\n",
    "    and returns a DataFrame\n",
    "\n",
    "    Parameters\n",
    "    ----------\n",
    "    number : int\n",
    "        number of posts to load comments from\n",
    "\n",
    "    scraping_options: callable\n",
    "        expects a select_scrap_type function\n",
    "    '''\n",
    "    comments = []\n",
    "    for submission in scraping_option(number):\n",
    "        comments.extend(reddit.get_comment_forest(submission.comments))\n",
    "        logger.debug(\n",
    "            submission.title,\n",
    "            submission.num_comments,\n",
    "            len(reddit.get_comment_forest(submission.comments)),\n",
    "        )\n",
    "    df = pd.DataFrame(comments)\n",
    "    return df\n",
    "\n",
    "\n",
    "def select_scrap_type(option: str) -> Callable:\n",
    "    '''\n",
    "    selects a method from the reddit object based on a given option\n",
    "    '''\n",
    "    if option == \"Hot\":\n",
    "        return reddit.get_hot\n",
    "        \n",
    "    if option == \"Rising\":\n",
    "        return reddit.get_rising\n",
    "\n",
    "    if option == \"New\":\n",
    "        return reddit.get_new"
   ]
  },
  {
   "cell_type": "markdown",
   "metadata": {},
   "source": [
    "##### Loading & Processing the Reddit Comment Data\n",
    "\n",
    "Let's scrape the 15 🔥 hottest 🔥 posts from your selected subreddit using the `load_data()` helper function!"
   ]
  },
  {
   "cell_type": "code",
   "execution_count": 7,
   "metadata": {},
   "outputs": [
    {
     "name": "stderr",
     "output_type": "stream",
     "text": [
      "2022-07-11 11:40:46.865 | DEBUG    | TSLASentimentAnalyzer.scraper:get_comment_forest:41 - <praw.models.comment_forest.CommentForest object at 0x7f60d9b4adc0>\n",
      "2022-07-11 11:40:46.866 | DEBUG    | TSLASentimentAnalyzer.scraper:get_comment_forest:41 - <praw.models.comment_forest.CommentForest object at 0x7f60d9b4adc0>\n",
      "2022-07-11 11:40:46.866 | DEBUG    | __main__:load_comments:19 - Daily Thread - July 11, 2022\n",
      "2022-07-11 11:40:59.852 | DEBUG    | TSLASentimentAnalyzer.scraper:get_comment_forest:41 - <praw.models.comment_forest.CommentForest object at 0x7f608e623ac0>\n",
      "2022-07-11 11:40:59.854 | INFO     | TSLASentimentAnalyzer.scraper:get_comment_forest:44 - more comments\n",
      "2022-07-11 11:41:09.891 | DEBUG    | TSLASentimentAnalyzer.scraper:get_comment_forest:41 - <MoreComments count=1, children=['i7h9jhn']>\n",
      "2022-07-11 11:41:09.892 | DEBUG    | TSLASentimentAnalyzer.scraper:get_comment_forest:45 - [{'comment': \"Walked right into that one, no?  Where, precisely, was the government impeding anyone's speech on Twitter?  No government censorship then it ain't a free speech matter.  It's a consequence-of-being-an-asshat-matter, just as it is for those thinking hate speech is permissible.  See also: paradox of tolerance.\", 'title': 'Long-running Thread for Detailed Discussion', 'id': 'i7h9jhn', 'created_at': 1651787094, 'score': 1}]\n",
      "2022-07-11 11:41:09.892 | INFO     | TSLASentimentAnalyzer.scraper:get_comment_forest:44 - more comments\n",
      "2022-07-11 11:41:20.056 | DEBUG    | TSLASentimentAnalyzer.scraper:get_comment_forest:41 - <MoreComments count=4, children=['i8zd27n']>\n",
      "2022-07-11 11:41:20.056 | DEBUG    | TSLASentimentAnalyzer.scraper:get_comment_forest:45 - [{'comment': 'The average income in China is like $8500/year. In India it’s like $2k. Those two countries comprise a huge portion of the worlds population. They are not going to lease a Tesla', 'title': 'Long-running Thread for Detailed Discussion', 'id': 'i8zd27n', 'created_at': 1652814797, 'score': 0}, {'comment': \"I disagree entirely with the premise of this comment: We're comparing like for like, and assuming better TCO. Those people wouldn't be buying a TM3/TMY-equivalent combustion vehicle either. \\n\\nIf we're stretching the conversation that far, you might as well add in all fish who can't drive a TM3 under the ocean, too.\", 'title': 'Long-running Thread for Detailed Discussion', 'id': 'i8zj7d7', 'created_at': 1652817316, 'score': 4}, {'comment': 'Yes you are right about that. I guess what I was getting at is that that Tesla currently competes in a niche luxury market segment for automobiles.', 'title': 'Long-running Thread for Detailed Discussion', 'id': 'i8zko83', 'created_at': 1652817924, 'score': 1}, {'comment': \"I agree. However, they are not inherently stuck in that niche, and it's TCO you want to base your analysis on, not retail sale price.\", 'title': 'Long-running Thread for Detailed Discussion', 'id': 'i8zljm8', 'created_at': 1652818287, 'score': 5}]\n",
      "2022-07-11 11:41:20.057 | INFO     | TSLASentimentAnalyzer.scraper:get_comment_forest:44 - more comments\n",
      "2022-07-11 11:41:30.233 | DEBUG    | TSLASentimentAnalyzer.scraper:get_comment_forest:41 - <MoreComments count=1, children=['i8ed87n']>\n",
      "2022-07-11 11:41:30.234 | DEBUG    | TSLASentimentAnalyzer.scraper:get_comment_forest:45 - [{'comment': 'Yep, agreed.', 'title': 'Long-running Thread for Detailed Discussion', 'id': 'i8ed87n', 'created_at': 1652406930, 'score': 0}]\n",
      "2022-07-11 11:41:30.235 | INFO     | TSLASentimentAnalyzer.scraper:get_comment_forest:44 - more comments\n",
      "2022-07-11 11:41:40.385 | DEBUG    | TSLASentimentAnalyzer.scraper:get_comment_forest:41 - <MoreComments count=1, children=['i9laoge']>\n",
      "2022-07-11 11:41:40.385 | DEBUG    | TSLASentimentAnalyzer.scraper:get_comment_forest:45 - [{'comment': 'If he knew recession is coming, why is he buying twitter at 50% over its value screwing tsla investors in the process, \\nAs a CEO where some damn fiduciary responsibility to tesla’s shareholders and stop dhooting the company into their own legs with makinh fun of libtards and dems, hes killing off the demand and for every damn idiotic tweet he looses potential buyers, \\n\\nAnd dont tell me musk is musk, he was never this politically polarizing ,\\n\\nSomeone get his off the board of directors and maybe get him iff the platform and let him go back with playing with rockets and building cars which is his strong point', 'title': 'Long-running Thread for Detailed Discussion', 'id': 'i9laoge', 'created_at': 1653243546, 'score': 0}]\n",
      "2022-07-11 11:41:40.386 | INFO     | TSLASentimentAnalyzer.scraper:get_comment_forest:44 - more comments\n",
      "2022-07-11 11:41:50.644 | DEBUG    | TSLASentimentAnalyzer.scraper:get_comment_forest:41 - <MoreComments count=0, children=[]>\n",
      "2022-07-11 11:41:50.645 | DEBUG    | TSLASentimentAnalyzer.scraper:get_comment_forest:45 - [{'comment': \"Tesla is not just competing with other electric cars.\\n\\nThey are competing with all cars, [as you yourself just said.](https://www.reddit.com/r/teslainvestorsclub/comments/t0qeyu/comment/i89866n/?utm_source=reddit&utm_medium=web2x&context=3)\\n\\nIn fact, a friend of mine recently cross-shopped a TM3 and a AMG C43, and ended up with the C43 — which he's quite proud of.\", 'title': 'Long-running Thread for Detailed Discussion', 'id': 'i8bpatw', 'created_at': 1652367074, 'score': 2}]\n",
      "2022-07-11 11:41:50.645 | INFO     | TSLASentimentAnalyzer.scraper:get_comment_forest:44 - more comments\n",
      "2022-07-11 11:42:00.875 | DEBUG    | TSLASentimentAnalyzer.scraper:get_comment_forest:41 - <MoreComments count=0, children=[]>\n",
      "2022-07-11 11:42:00.877 | DEBUG    | TSLASentimentAnalyzer.scraper:get_comment_forest:45 - [{'comment': 'Or what percentage of incidents are known by Tesla to be caused by doing everything they can to minimize false negatives, something which could change when they get to a certain confidence level.\\n\\nBetter some uncomfortable rides than a string of dead kids.', 'title': 'Long-running Thread for Detailed Discussion', 'id': 'hyyy6dy', 'created_at': 1646173357, 'score': 3}]\n",
      "2022-07-11 11:42:00.878 | INFO     | TSLASentimentAnalyzer.scraper:get_comment_forest:44 - more comments\n",
      "2022-07-11 11:42:11.114 | DEBUG    | TSLASentimentAnalyzer.scraper:get_comment_forest:41 - <MoreComments count=0, children=[]>\n",
      "2022-07-11 11:42:11.115 | DEBUG    | TSLASentimentAnalyzer.scraper:get_comment_forest:45 - [{'comment': \"It's a investment forum, analysts are of financial nature in this sub. It's up to you to express yourself in a matter that we can understand. But I can tell you lack the maturity to accept you might have been less than absolute perfect alpha chad. That's why I surrender, you win!\", 'title': 'Long-running Thread for Detailed Discussion', 'id': 'i00lrkq', 'created_at': 1646857429, 'score': 0}]\n",
      "2022-07-11 11:42:11.115 | INFO     | TSLASentimentAnalyzer.scraper:get_comment_forest:44 - more comments\n",
      "2022-07-11 11:42:21.379 | DEBUG    | TSLASentimentAnalyzer.scraper:get_comment_forest:41 - <MoreComments count=0, children=[]>\n",
      "2022-07-11 11:42:21.379 | DEBUG    | TSLASentimentAnalyzer.scraper:get_comment_forest:45 - [{'comment': 'I will be messaging you in 3 years on [**2025-04-12 17:44:36 UTC**](http://www.wolframalpha.com/input/?i=2025-04-12%2017:44:36%20UTC%20To%20Local%20Time) to remind you of [**this link**](https://www.reddit.com/r/teslainvestorsclub/comments/t0qeyu/longrunning_thread_for_detailed_discussion/i4gfftu/?context=3)\\n\\n[**1 OTHERS CLICKED THIS LINK**](https://www.reddit.com/message/compose/?to=RemindMeBot&subject=Reminder&message=%5Bhttps%3A%2F%2Fwww.reddit.com%2Fr%2Fteslainvestorsclub%2Fcomments%2Ft0qeyu%2Flongrunning_thread_for_detailed_discussion%2Fi4gfftu%2F%5D%0A%0ARemindMe%21%202025-04-12%2017%3A44%3A36%20UTC) to send a PM to also be reminded and to reduce spam.\\n\\n^(Parent commenter can ) [^(delete this message to hide from others.)](https://www.reddit.com/message/compose/?to=RemindMeBot&subject=Delete%20Comment&message=Delete%21%20t0qeyu)\\n\\n*****\\n\\n|[^(Info)](https://www.reddit.com/r/RemindMeBot/comments/e1bko7/remindmebot_info_v21/)|[^(Custom)](https://www.reddit.com/message/compose/?to=RemindMeBot&subject=Reminder&message=%5BLink%20or%20message%20inside%20square%20brackets%5D%0A%0ARemindMe%21%20Time%20period%20here)|[^(Your Reminders)](https://www.reddit.com/message/compose/?to=RemindMeBot&subject=List%20Of%20Reminders&message=MyReminders%21)|[^(Feedback)](https://www.reddit.com/message/compose/?to=Watchful1&subject=RemindMeBot%20Feedback)|\\n|-|-|-|-|', 'title': 'Long-running Thread for Detailed Discussion', 'id': 'i4gfj70', 'created_at': 1649785510, 'score': 1}]\n",
      "2022-07-11 11:42:21.380 | INFO     | TSLASentimentAnalyzer.scraper:get_comment_forest:44 - more comments\n",
      "2022-07-11 11:42:31.654 | DEBUG    | TSLASentimentAnalyzer.scraper:get_comment_forest:41 - <MoreComments count=0, children=[]>\n",
      "2022-07-11 11:42:31.655 | DEBUG    | TSLASentimentAnalyzer.scraper:get_comment_forest:45 - [{'comment': 'Exactly, thesis is the same. Bitcoin from 2013 - 2017 taught me to be patient and to switch off emotions in investing :)', 'title': 'Long-running Thread for Detailed Discussion', 'id': 'iaja4kc', 'created_at': 1653911779, 'score': 1}]\n",
      "2022-07-11 11:42:31.656 | DEBUG    | TSLASentimentAnalyzer.scraper:get_comment_forest:41 - <praw.models.comment_forest.CommentForest object at 0x7f608e623ac0>\n",
      "2022-07-11 11:42:31.657 | INFO     | TSLASentimentAnalyzer.scraper:get_comment_forest:44 - more comments\n",
      "2022-07-11 11:42:31.658 | DEBUG    | TSLASentimentAnalyzer.scraper:get_comment_forest:41 - <MoreComments count=1, children=['i7h9jhn']>\n",
      "2022-07-11 11:42:31.658 | DEBUG    | TSLASentimentAnalyzer.scraper:get_comment_forest:45 - [{'comment': \"Walked right into that one, no?  Where, precisely, was the government impeding anyone's speech on Twitter?  No government censorship then it ain't a free speech matter.  It's a consequence-of-being-an-asshat-matter, just as it is for those thinking hate speech is permissible.  See also: paradox of tolerance.\", 'title': 'Long-running Thread for Detailed Discussion', 'id': 'i7h9jhn', 'created_at': 1651787094, 'score': 1}]\n",
      "2022-07-11 11:42:31.659 | INFO     | TSLASentimentAnalyzer.scraper:get_comment_forest:44 - more comments\n",
      "2022-07-11 11:42:31.660 | DEBUG    | TSLASentimentAnalyzer.scraper:get_comment_forest:41 - <MoreComments count=4, children=['i8zd27n']>\n",
      "2022-07-11 11:42:31.661 | DEBUG    | TSLASentimentAnalyzer.scraper:get_comment_forest:45 - [{'comment': 'The average income in China is like $8500/year. In India it’s like $2k. Those two countries comprise a huge portion of the worlds population. They are not going to lease a Tesla', 'title': 'Long-running Thread for Detailed Discussion', 'id': 'i8zd27n', 'created_at': 1652814797, 'score': 0}, {'comment': \"I disagree entirely with the premise of this comment: We're comparing like for like, and assuming better TCO. Those people wouldn't be buying a TM3/TMY-equivalent combustion vehicle either. \\n\\nIf we're stretching the conversation that far, you might as well add in all fish who can't drive a TM3 under the ocean, too.\", 'title': 'Long-running Thread for Detailed Discussion', 'id': 'i8zj7d7', 'created_at': 1652817316, 'score': 4}, {'comment': 'Yes you are right about that. I guess what I was getting at is that that Tesla currently competes in a niche luxury market segment for automobiles.', 'title': 'Long-running Thread for Detailed Discussion', 'id': 'i8zko83', 'created_at': 1652817924, 'score': 1}, {'comment': \"I agree. However, they are not inherently stuck in that niche, and it's TCO you want to base your analysis on, not retail sale price.\", 'title': 'Long-running Thread for Detailed Discussion', 'id': 'i8zljm8', 'created_at': 1652818287, 'score': 5}]\n",
      "2022-07-11 11:42:31.662 | INFO     | TSLASentimentAnalyzer.scraper:get_comment_forest:44 - more comments\n",
      "2022-07-11 11:42:31.663 | DEBUG    | TSLASentimentAnalyzer.scraper:get_comment_forest:41 - <MoreComments count=1, children=['i8ed87n']>\n",
      "2022-07-11 11:42:31.663 | DEBUG    | TSLASentimentAnalyzer.scraper:get_comment_forest:45 - [{'comment': 'Yep, agreed.', 'title': 'Long-running Thread for Detailed Discussion', 'id': 'i8ed87n', 'created_at': 1652406930, 'score': 0}]\n",
      "2022-07-11 11:42:31.664 | INFO     | TSLASentimentAnalyzer.scraper:get_comment_forest:44 - more comments\n",
      "2022-07-11 11:42:31.664 | DEBUG    | TSLASentimentAnalyzer.scraper:get_comment_forest:41 - <MoreComments count=1, children=['i9laoge']>\n",
      "2022-07-11 11:42:31.665 | DEBUG    | TSLASentimentAnalyzer.scraper:get_comment_forest:45 - [{'comment': 'If he knew recession is coming, why is he buying twitter at 50% over its value screwing tsla investors in the process, \\nAs a CEO where some damn fiduciary responsibility to tesla’s shareholders and stop dhooting the company into their own legs with makinh fun of libtards and dems, hes killing off the demand and for every damn idiotic tweet he looses potential buyers, \\n\\nAnd dont tell me musk is musk, he was never this politically polarizing ,\\n\\nSomeone get his off the board of directors and maybe get him iff the platform and let him go back with playing with rockets and building cars which is his strong point', 'title': 'Long-running Thread for Detailed Discussion', 'id': 'i9laoge', 'created_at': 1653243546, 'score': 0}]\n",
      "2022-07-11 11:42:31.666 | INFO     | TSLASentimentAnalyzer.scraper:get_comment_forest:44 - more comments\n",
      "2022-07-11 11:42:31.666 | DEBUG    | TSLASentimentAnalyzer.scraper:get_comment_forest:41 - <MoreComments count=0, children=[]>\n",
      "2022-07-11 11:42:31.667 | DEBUG    | TSLASentimentAnalyzer.scraper:get_comment_forest:45 - [{'comment': \"Tesla is not just competing with other electric cars.\\n\\nThey are competing with all cars, [as you yourself just said.](https://www.reddit.com/r/teslainvestorsclub/comments/t0qeyu/comment/i89866n/?utm_source=reddit&utm_medium=web2x&context=3)\\n\\nIn fact, a friend of mine recently cross-shopped a TM3 and a AMG C43, and ended up with the C43 — which he's quite proud of.\", 'title': 'Long-running Thread for Detailed Discussion', 'id': 'i8bpatw', 'created_at': 1652367074, 'score': 2}]\n",
      "2022-07-11 11:42:31.668 | INFO     | TSLASentimentAnalyzer.scraper:get_comment_forest:44 - more comments\n",
      "2022-07-11 11:42:31.668 | DEBUG    | TSLASentimentAnalyzer.scraper:get_comment_forest:41 - <MoreComments count=0, children=[]>\n",
      "2022-07-11 11:42:31.669 | DEBUG    | TSLASentimentAnalyzer.scraper:get_comment_forest:45 - [{'comment': 'Or what percentage of incidents are known by Tesla to be caused by doing everything they can to minimize false negatives, something which could change when they get to a certain confidence level.\\n\\nBetter some uncomfortable rides than a string of dead kids.', 'title': 'Long-running Thread for Detailed Discussion', 'id': 'hyyy6dy', 'created_at': 1646173357, 'score': 3}]\n",
      "2022-07-11 11:42:31.669 | INFO     | TSLASentimentAnalyzer.scraper:get_comment_forest:44 - more comments\n",
      "2022-07-11 11:42:31.670 | DEBUG    | TSLASentimentAnalyzer.scraper:get_comment_forest:41 - <MoreComments count=0, children=[]>\n",
      "2022-07-11 11:42:31.673 | DEBUG    | TSLASentimentAnalyzer.scraper:get_comment_forest:45 - [{'comment': \"It's a investment forum, analysts are of financial nature in this sub. It's up to you to express yourself in a matter that we can understand. But I can tell you lack the maturity to accept you might have been less than absolute perfect alpha chad. That's why I surrender, you win!\", 'title': 'Long-running Thread for Detailed Discussion', 'id': 'i00lrkq', 'created_at': 1646857429, 'score': 0}]\n",
      "2022-07-11 11:42:31.674 | INFO     | TSLASentimentAnalyzer.scraper:get_comment_forest:44 - more comments\n",
      "2022-07-11 11:42:31.675 | DEBUG    | TSLASentimentAnalyzer.scraper:get_comment_forest:41 - <MoreComments count=0, children=[]>\n",
      "2022-07-11 11:42:31.675 | DEBUG    | TSLASentimentAnalyzer.scraper:get_comment_forest:45 - [{'comment': 'I will be messaging you in 3 years on [**2025-04-12 17:44:36 UTC**](http://www.wolframalpha.com/input/?i=2025-04-12%2017:44:36%20UTC%20To%20Local%20Time) to remind you of [**this link**](https://www.reddit.com/r/teslainvestorsclub/comments/t0qeyu/longrunning_thread_for_detailed_discussion/i4gfftu/?context=3)\\n\\n[**1 OTHERS CLICKED THIS LINK**](https://www.reddit.com/message/compose/?to=RemindMeBot&subject=Reminder&message=%5Bhttps%3A%2F%2Fwww.reddit.com%2Fr%2Fteslainvestorsclub%2Fcomments%2Ft0qeyu%2Flongrunning_thread_for_detailed_discussion%2Fi4gfftu%2F%5D%0A%0ARemindMe%21%202025-04-12%2017%3A44%3A36%20UTC) to send a PM to also be reminded and to reduce spam.\\n\\n^(Parent commenter can ) [^(delete this message to hide from others.)](https://www.reddit.com/message/compose/?to=RemindMeBot&subject=Delete%20Comment&message=Delete%21%20t0qeyu)\\n\\n*****\\n\\n|[^(Info)](https://www.reddit.com/r/RemindMeBot/comments/e1bko7/remindmebot_info_v21/)|[^(Custom)](https://www.reddit.com/message/compose/?to=RemindMeBot&subject=Reminder&message=%5BLink%20or%20message%20inside%20square%20brackets%5D%0A%0ARemindMe%21%20Time%20period%20here)|[^(Your Reminders)](https://www.reddit.com/message/compose/?to=RemindMeBot&subject=List%20Of%20Reminders&message=MyReminders%21)|[^(Feedback)](https://www.reddit.com/message/compose/?to=Watchful1&subject=RemindMeBot%20Feedback)|\\n|-|-|-|-|', 'title': 'Long-running Thread for Detailed Discussion', 'id': 'i4gfj70', 'created_at': 1649785510, 'score': 1}]\n",
      "2022-07-11 11:42:31.676 | INFO     | TSLASentimentAnalyzer.scraper:get_comment_forest:44 - more comments\n",
      "2022-07-11 11:42:31.678 | DEBUG    | TSLASentimentAnalyzer.scraper:get_comment_forest:41 - <MoreComments count=0, children=[]>\n",
      "2022-07-11 11:42:31.679 | DEBUG    | TSLASentimentAnalyzer.scraper:get_comment_forest:45 - [{'comment': 'Exactly, thesis is the same. Bitcoin from 2013 - 2017 taught me to be patient and to switch off emotions in investing :)', 'title': 'Long-running Thread for Detailed Discussion', 'id': 'iaja4kc', 'created_at': 1653911779, 'score': 1}]\n",
      "2022-07-11 11:42:31.679 | DEBUG    | __main__:load_comments:19 - Long-running Thread for Detailed Discussion\n",
      "2022-07-11 11:42:41.897 | DEBUG    | TSLASentimentAnalyzer.scraper:get_comment_forest:41 - <praw.models.comment_forest.CommentForest object at 0x7f608e4f77c0>\n",
      "2022-07-11 11:42:41.898 | DEBUG    | TSLASentimentAnalyzer.scraper:get_comment_forest:41 - <praw.models.comment_forest.CommentForest object at 0x7f608e4f77c0>\n",
      "2022-07-11 11:42:41.898 | DEBUG    | __main__:load_comments:19 - Tesla Giga Berlin Already Employs About 5,000 People, Is Region’s Largest Employer\n",
      "2022-07-11 11:42:52.168 | DEBUG    | TSLASentimentAnalyzer.scraper:get_comment_forest:41 - <praw.models.comment_forest.CommentForest object at 0x7f608e510e20>\n",
      "2022-07-11 11:42:52.168 | DEBUG    | TSLASentimentAnalyzer.scraper:get_comment_forest:41 - <praw.models.comment_forest.CommentForest object at 0x7f608e510e20>\n",
      "2022-07-11 11:42:52.169 | DEBUG    | __main__:load_comments:19 - For the past six months, the US joined Europe and China — collectively the three largest car markets — in moving beyond the 5% tipping point. If the US follows the trend established by 18 countries that came before it, a quarter of new car sales could be electric by the end of 2025.\n",
      "2022-07-11 11:43:04.841 | DEBUG    | TSLASentimentAnalyzer.scraper:get_comment_forest:41 - <praw.models.comment_forest.CommentForest object at 0x7f608e67c820>\n",
      "2022-07-11 11:43:04.842 | DEBUG    | TSLASentimentAnalyzer.scraper:get_comment_forest:41 - <praw.models.comment_forest.CommentForest object at 0x7f608e67c820>\n",
      "2022-07-11 11:43:04.842 | DEBUG    | __main__:load_comments:19 - BMW i3 Production Comes To An End: 250,000 Were Made\n",
      "2022-07-11 11:43:15.082 | DEBUG    | TSLASentimentAnalyzer.scraper:get_comment_forest:41 - <praw.models.comment_forest.CommentForest object at 0x7f608e67cc40>\n",
      "2022-07-11 11:43:15.083 | DEBUG    | TSLASentimentAnalyzer.scraper:get_comment_forest:41 - <praw.models.comment_forest.CommentForest object at 0x7f608e67cc40>\n",
      "2022-07-11 11:43:15.084 | DEBUG    | __main__:load_comments:19 - Tesla and PG&E invite customers to create world's largest distributed battery to support grid reliability\n",
      "2022-07-11 11:43:25.255 | DEBUG    | TSLASentimentAnalyzer.scraper:get_comment_forest:41 - <praw.models.comment_forest.CommentForest object at 0x7f608e3cee80>\n",
      "2022-07-11 11:43:25.257 | DEBUG    | TSLASentimentAnalyzer.scraper:get_comment_forest:41 - <praw.models.comment_forest.CommentForest object at 0x7f608e3cee80>\n",
      "2022-07-11 11:43:25.258 | DEBUG    | __main__:load_comments:19 - 2021-22 Mustang Mach-E owners slap Ford with federal lawsuit over safety defect\n",
      "2022-07-11 11:43:35.431 | DEBUG    | TSLASentimentAnalyzer.scraper:get_comment_forest:41 - <praw.models.comment_forest.CommentForest object at 0x7f608e671e20>\n",
      "2022-07-11 11:43:35.432 | DEBUG    | TSLASentimentAnalyzer.scraper:get_comment_forest:41 - <praw.models.comment_forest.CommentForest object at 0x7f608e671e20>\n",
      "2022-07-11 11:43:35.432 | DEBUG    | __main__:load_comments:19 - Rivian Automotive (RIVN) Plans To Cut About 5% Of Workforce - Bloomberg\n",
      "2022-07-11 11:43:46.018 | DEBUG    | TSLASentimentAnalyzer.scraper:get_comment_forest:41 - <praw.models.comment_forest.CommentForest object at 0x7f608e3ceee0>\n",
      "2022-07-11 11:43:46.019 | DEBUG    | TSLASentimentAnalyzer.scraper:get_comment_forest:41 - <praw.models.comment_forest.CommentForest object at 0x7f608e3ceee0>\n",
      "2022-07-11 11:43:46.019 | DEBUG    | __main__:load_comments:19 - Understanding Tesla’s operating leverage\n",
      "2022-07-11 11:43:56.283 | DEBUG    | TSLASentimentAnalyzer.scraper:get_comment_forest:41 - <praw.models.comment_forest.CommentForest object at 0x7f608e671d90>\n",
      "2022-07-11 11:43:56.283 | DEBUG    | TSLASentimentAnalyzer.scraper:get_comment_forest:41 - <praw.models.comment_forest.CommentForest object at 0x7f608e671d90>\n",
      "2022-07-11 11:43:56.284 | DEBUG    | __main__:load_comments:19 - Why Electric Vehicle Manufacturing Is A National Security Imperative - IBT 7.10.22\n",
      "2022-07-11 11:44:06.598 | DEBUG    | TSLASentimentAnalyzer.scraper:get_comment_forest:41 - <praw.models.comment_forest.CommentForest object at 0x7f608e403430>\n",
      "2022-07-11 11:44:06.600 | DEBUG    | TSLASentimentAnalyzer.scraper:get_comment_forest:41 - <praw.models.comment_forest.CommentForest object at 0x7f608e403430>\n",
      "2022-07-11 11:44:06.600 | DEBUG    | __main__:load_comments:19 - Tesla Model Y Is China’s Best-Selling SUV in June, Smashing Rivals\n",
      "2022-07-11 11:44:16.927 | DEBUG    | TSLASentimentAnalyzer.scraper:get_comment_forest:41 - <praw.models.comment_forest.CommentForest object at 0x7f608e6230d0>\n",
      "2022-07-11 11:44:16.928 | DEBUG    | TSLASentimentAnalyzer.scraper:get_comment_forest:41 - <praw.models.comment_forest.CommentForest object at 0x7f608e6230d0>\n",
      "2022-07-11 11:44:16.929 | DEBUG    | __main__:load_comments:19 - US Crosses the Electric-Car Tipping Point for Mass Adoption\n",
      "2022-07-11 11:44:27.198 | DEBUG    | TSLASentimentAnalyzer.scraper:get_comment_forest:41 - <praw.models.comment_forest.CommentForest object at 0x7f608e3a1280>\n",
      "2022-07-11 11:44:27.199 | DEBUG    | TSLASentimentAnalyzer.scraper:get_comment_forest:41 - <praw.models.comment_forest.CommentForest object at 0x7f608e3a1280>\n",
      "2022-07-11 11:44:27.199 | DEBUG    | __main__:load_comments:19 - Mazda reports just 23 sales of their all-electric MX-30 in June 2022\n",
      "2022-07-11 11:44:37.569 | DEBUG    | TSLASentimentAnalyzer.scraper:get_comment_forest:41 - <praw.models.comment_forest.CommentForest object at 0x7f608e3bd8b0>\n",
      "2022-07-11 11:44:37.570 | DEBUG    | TSLASentimentAnalyzer.scraper:get_comment_forest:41 - <praw.models.comment_forest.CommentForest object at 0x7f608e3bd8b0>\n",
      "2022-07-11 11:44:37.571 | DEBUG    | __main__:load_comments:19 - Cruise’s Robot Car Outages Are Jamming Up San Francisco\n",
      "2022-07-11 11:44:47.983 | DEBUG    | TSLASentimentAnalyzer.scraper:get_comment_forest:41 - <praw.models.comment_forest.CommentForest object at 0x7f608e39fe20>\n",
      "2022-07-11 11:44:47.984 | DEBUG    | TSLASentimentAnalyzer.scraper:get_comment_forest:41 - <praw.models.comment_forest.CommentForest object at 0x7f608e39fe20>\n",
      "2022-07-11 11:44:47.985 | DEBUG    | __main__:load_comments:19 - Daily Thread - July 10, 2022\n"
     ]
    }
   ],
   "source": [
    "# Scraping data from reddit\n",
    "### YOUR LINE OF CODE HERE\n",
    "dfReddit = load_comments(15, select_scrap_type(\"Hot\"))"
   ]
  },
  {
   "cell_type": "code",
   "execution_count": 8,
   "metadata": {},
   "outputs": [
    {
     "data": {
      "text/html": [
       "<div>\n",
       "<style scoped>\n",
       "    .dataframe tbody tr th:only-of-type {\n",
       "        vertical-align: middle;\n",
       "    }\n",
       "\n",
       "    .dataframe tbody tr th {\n",
       "        vertical-align: top;\n",
       "    }\n",
       "\n",
       "    .dataframe thead th {\n",
       "        text-align: right;\n",
       "    }\n",
       "</style>\n",
       "<table border=\"1\" class=\"dataframe\">\n",
       "  <thead>\n",
       "    <tr style=\"text-align: right;\">\n",
       "      <th></th>\n",
       "      <th>comment</th>\n",
       "      <th>title</th>\n",
       "      <th>id</th>\n",
       "      <th>created_at</th>\n",
       "      <th>score</th>\n",
       "    </tr>\n",
       "  </thead>\n",
       "  <tbody>\n",
       "    <tr>\n",
       "      <th>0</th>\n",
       "      <td>$TSLA 2022\\n\\n![gif](giphy|ksVugU85LoBk4)</td>\n",
       "      <td>Daily Thread - July 11, 2022</td>\n",
       "      <td>ifqg4hu</td>\n",
       "      <td>1657554156</td>\n",
       "      <td>15</td>\n",
       "    </tr>\n",
       "    <tr>\n",
       "      <th>1</th>\n",
       "      <td>The macro giveth and it fucking taketh</td>\n",
       "      <td>Daily Thread - July 11, 2022</td>\n",
       "      <td>ifqqqj6</td>\n",
       "      <td>1657558322</td>\n",
       "      <td>11</td>\n",
       "    </tr>\n",
       "    <tr>\n",
       "      <th>2</th>\n",
       "      <td>Sorry guys I bought some stock...</td>\n",
       "      <td>Daily Thread - July 11, 2022</td>\n",
       "      <td>ifq0t4z</td>\n",
       "      <td>1657547711</td>\n",
       "      <td>9</td>\n",
       "    </tr>\n",
       "    <tr>\n",
       "      <th>3</th>\n",
       "      <td>Reddit mob got so pissed when he wanted to buy...</td>\n",
       "      <td>Daily Thread - July 11, 2022</td>\n",
       "      <td>ifp7lih</td>\n",
       "      <td>1657528665</td>\n",
       "      <td>22</td>\n",
       "    </tr>\n",
       "    <tr>\n",
       "      <th>4</th>\n",
       "      <td>Mac-rowwwwwwww\\n\\nTakes some seriously good ne...</td>\n",
       "      <td>Daily Thread - July 11, 2022</td>\n",
       "      <td>ifq0kc2</td>\n",
       "      <td>1657547601</td>\n",
       "      <td>7</td>\n",
       "    </tr>\n",
       "  </tbody>\n",
       "</table>\n",
       "</div>"
      ],
      "text/plain": [
       "                                             comment  \\\n",
       "0          $TSLA 2022\\n\\n![gif](giphy|ksVugU85LoBk4)   \n",
       "1             The macro giveth and it fucking taketh   \n",
       "2                  Sorry guys I bought some stock...   \n",
       "3  Reddit mob got so pissed when he wanted to buy...   \n",
       "4  Mac-rowwwwwwww\\n\\nTakes some seriously good ne...   \n",
       "\n",
       "                          title       id  created_at  score  \n",
       "0  Daily Thread - July 11, 2022  ifqg4hu  1657554156     15  \n",
       "1  Daily Thread - July 11, 2022  ifqqqj6  1657558322     11  \n",
       "2  Daily Thread - July 11, 2022  ifq0t4z  1657547711      9  \n",
       "3  Daily Thread - July 11, 2022  ifp7lih  1657528665     22  \n",
       "4  Daily Thread - July 11, 2022  ifq0kc2  1657547601      7  "
      ]
     },
     "execution_count": 8,
     "metadata": {},
     "output_type": "execute_result"
    }
   ],
   "source": [
    "dfReddit.head()"
   ]
  },
  {
   "cell_type": "markdown",
   "metadata": {},
   "source": [
    "Once we have our comments, let's use the [`pandas.Series.str.slice()`](https://pandas.pydata.org/docs/reference/api/pandas.Series.str.slice.html) method to ensure our data will play nicely with our model. (`bert` only supports up to a maximum of 512 tokens, so a range of `0` to `512` seems appropriate)"
   ]
  },
  {
   "cell_type": "code",
   "execution_count": 9,
   "metadata": {},
   "outputs": [],
   "source": [
    "# slice comments as bert supports only 512 tokens\n",
    "### YOUR LINE OF CODE HERE\n",
    "dfReddit['comment'] = dfReddit['comment'].str.slice(0, 1000)"
   ]
  },
  {
   "cell_type": "markdown",
   "metadata": {},
   "source": [
    "### Step 5: Analyze the Comments! 🔍\n"
   ]
  },
  {
   "cell_type": "markdown",
   "metadata": {},
   "source": [
    "We'll be using the `FourthBrain/bert_model_reddit_tsla` model (found [here](https://huggingface.co/FourthBrain/bert_model_reddit_tsla)), which is based off of the `distilbert-base-uncased` (found [here](https://huggingface.co/distilbert-base-uncased))\n",
    "\n",
    "We'll use this model in a `sentiment-analysis` pipeline! (read all about that [here](https://huggingface.co/docs/transformers/main_classes/pipelines#transformers.pipeline.example))"
   ]
  },
  {
   "cell_type": "code",
   "execution_count": 10,
   "metadata": {},
   "outputs": [],
   "source": [
    "from transformers import pipeline\n",
    "\n",
    "# initialize the sentiment pipeline\n",
    "### YOUR LINE OF CODE HERE\n",
    "sentiment_pipeline = pipeline('sentiment-analysis', 'FourthBrain/bert_model_reddit_tsla')\n",
    "\n",
    "\n",
    "reddit_json = sentiment_pipeline(dfReddit[\"comment\"].tolist())\n",
    "\n",
    "# Retrieve labels and scores\n",
    "dfReddit['label'] = [reddit_json[i]['label'] for i in range(0, len(reddit_json))]\n",
    "dfReddit['score'] = [reddit_json[i]['score'] for i in range(0, len(reddit_json))]\n"
   ]
  },
  {
   "cell_type": "markdown",
   "metadata": {},
   "source": [
    "Next up, we'll want to perform the following steps\n",
    "\n",
    "1. Convert the `created_at` column to the appropriate format and name it `'timestamp'`\n",
    "2. Normalize the dates using the `NormalizeDates()` helper function"
   ]
  },
  {
   "cell_type": "code",
   "execution_count": 11,
   "metadata": {},
   "outputs": [],
   "source": [
    "import numpy as np\n",
    "from BotUtils import NormalizeDates\n",
    "\n",
    "# Rename timestamp column \n",
    "dfReddit = dfReddit.rename(columns={'created_at': 'timestamp'})\n",
    "dfReddit['timestamp'] = [datetime.fromtimestamp(dt) for dt in dfReddit['timestamp'] ]\n",
    "\n",
    "# Normalize Reddit sentiment data\n",
    "dfReddit = NormalizeDates(dfReddit, timestamp_col=\"timestamp\", interval=interval)\n",
    "\n",
    "# Create a continous time series \n",
    "dfTimeSeries = pd.DataFrame(dfReddit[\"timestamp\"])"
   ]
  },
  {
   "cell_type": "markdown",
   "metadata": {},
   "source": [
    "### Step 6: Get Stock Data 🚀\n",
    "\n",
    "Next up, we're going to get the stock data and create a DataFrame - as well as normalize the dates, just like we did with the subreddit comment timestamps"
   ]
  },
  {
   "cell_type": "code",
   "execution_count": 12,
   "metadata": {},
   "outputs": [],
   "source": [
    "from BotUtils import GetStockData\n",
    "\n",
    "# Get Stock Data\n",
    "j, dfStockData = GetStockData(settings.stock_data_api_key, symbol=symbol, start_date=start_date, end_date=end_date, interval='1day')\n",
    "dfStockData = dfStockData[(dfStockData['timestamp'] >= start_date) & (dfStockData['timestamp'] <= end_date)]\n",
    "\n",
    "# Normalize stock price data\n",
    "dfStockData = NormalizeDates(dfStockData, timestamp_col=\"timestamp\", interval=interval)"
   ]
  },
  {
   "cell_type": "markdown",
   "metadata": {},
   "source": [
    "### Step 7: Merge Sentiment and Stock Data 🧬\n",
    "\n",
    "We've got some processing to do! "
   ]
  },
  {
   "cell_type": "code",
   "execution_count": 13,
   "metadata": {},
   "outputs": [],
   "source": [
    "# Join time series df with stock price df and reddit df\n",
    "dfSentiment = dfTimeSeries.merge(dfStockData, how='left', on=\"timestamp\")\n",
    "dfSentiment = dfSentiment.merge(dfReddit, how='left', on=\"timestamp\")\n",
    "\n",
    "# Filter down to only the columns that we'll be using \n",
    "dfSentiment = dfSentiment[['timestamp', 'close', 'volume', 'label', 'score']]\n",
    "\n",
    "# Clean up NaNs for closing price, score, and labels\n",
    "dfSentiment['close'] = dfSentiment['close'].fillna(0)\n",
    "dfSentiment['score'] = dfSentiment['score'].fillna(0)\n",
    "dfSentiment['label'] = dfSentiment['label'].fillna('NEUTRAL')\n",
    "dfSentiment['label'] = ['NEGATIVE' for s in dfSentiment['label'] == 'LABEL_0']\n",
    "dfSentiment['label'] = ['POSITIVE' for s in dfSentiment['label'] == 'LABEL_1']\n",
    "\n",
    "# Convert close from string to float\n",
    "dfSentiment['close'] = dfSentiment['close'].astype('float')\n",
    "\n",
    "# Calculate weighted sentiment\n",
    "dfSentiment['sentiment'] = [1 if sentiment == \"POSITIVE\"  else 0 if sentiment == \"NEUTRAL\" else -1 for sentiment in dfSentiment['label'].tolist() ]\n",
    "dfSentiment['weighted_sentiment'] = dfSentiment['sentiment'] * dfSentiment['score']\n",
    "\n",
    "# Count only the POSITIVE and NEGATIVE labels (NEUTRAL is just a filler for missing dates)\n",
    "dfSentiment['counter'] = [1 if sentiment == \"POSITIVE\"  else 1 if sentiment == \"NEGATIVE\" else 0 for sentiment in dfSentiment['label'].tolist() ]\n",
    "\n",
    "# Group by to calculate Reddit post count and sentiment score (mean of weighted sentiment)\n",
    "dfSentiment = dfSentiment.groupby('timestamp') \\\n",
    "       .agg({'counter':'sum', 'close':'max', 'volume':max, 'weighted_sentiment':'mean'}) \\\n",
    "       .rename(columns={'sentiment':'count_posts', 'weighted_sentiment':'sentiment_score'}) \\\n",
    "       .reset_index()\n"
   ]
  },
  {
   "cell_type": "code",
   "execution_count": 14,
   "metadata": {},
   "outputs": [
    {
     "data": {
      "text/html": [
       "<div>\n",
       "<style scoped>\n",
       "    .dataframe tbody tr th:only-of-type {\n",
       "        vertical-align: middle;\n",
       "    }\n",
       "\n",
       "    .dataframe tbody tr th {\n",
       "        vertical-align: top;\n",
       "    }\n",
       "\n",
       "    .dataframe thead th {\n",
       "        text-align: right;\n",
       "    }\n",
       "</style>\n",
       "<table border=\"1\" class=\"dataframe\">\n",
       "  <thead>\n",
       "    <tr style=\"text-align: right;\">\n",
       "      <th></th>\n",
       "      <th>timestamp</th>\n",
       "      <th>counter</th>\n",
       "      <th>close</th>\n",
       "      <th>volume</th>\n",
       "      <th>sentiment_score</th>\n",
       "    </tr>\n",
       "  </thead>\n",
       "  <tbody>\n",
       "    <tr>\n",
       "      <th>0</th>\n",
       "      <td>2022-02-01</td>\n",
       "      <td>45619</td>\n",
       "      <td>932.00000</td>\n",
       "      <td>45107400</td>\n",
       "      <td>0.865659</td>\n",
       "    </tr>\n",
       "    <tr>\n",
       "      <th>1</th>\n",
       "      <td>2022-03-01</td>\n",
       "      <td>298908</td>\n",
       "      <td>1099.56995</td>\n",
       "      <td>40225400</td>\n",
       "      <td>0.871303</td>\n",
       "    </tr>\n",
       "    <tr>\n",
       "      <th>2</th>\n",
       "      <td>2022-04-01</td>\n",
       "      <td>204020</td>\n",
       "      <td>1145.44995</td>\n",
       "      <td>45377900</td>\n",
       "      <td>0.856062</td>\n",
       "    </tr>\n",
       "    <tr>\n",
       "      <th>3</th>\n",
       "      <td>2022-05-01</td>\n",
       "      <td>394149</td>\n",
       "      <td>952.62000</td>\n",
       "      <td>48324400</td>\n",
       "      <td>0.859798</td>\n",
       "    </tr>\n",
       "    <tr>\n",
       "      <th>4</th>\n",
       "      <td>2022-06-01</td>\n",
       "      <td>78141</td>\n",
       "      <td>775.00000</td>\n",
       "      <td>40931000</td>\n",
       "      <td>0.868556</td>\n",
       "    </tr>\n",
       "    <tr>\n",
       "      <th>5</th>\n",
       "      <td>2022-07-01</td>\n",
       "      <td>190969</td>\n",
       "      <td>681.78998</td>\n",
       "      <td>24781500</td>\n",
       "      <td>0.862636</td>\n",
       "    </tr>\n",
       "  </tbody>\n",
       "</table>\n",
       "</div>"
      ],
      "text/plain": [
       "   timestamp  counter       close    volume  sentiment_score\n",
       "0 2022-02-01    45619   932.00000  45107400         0.865659\n",
       "1 2022-03-01   298908  1099.56995  40225400         0.871303\n",
       "2 2022-04-01   204020  1145.44995  45377900         0.856062\n",
       "3 2022-05-01   394149   952.62000  48324400         0.859798\n",
       "4 2022-06-01    78141   775.00000  40931000         0.868556\n",
       "5 2022-07-01   190969   681.78998  24781500         0.862636"
      ]
     },
     "execution_count": 14,
     "metadata": {},
     "output_type": "execute_result"
    }
   ],
   "source": [
    "dfSentiment"
   ]
  },
  {
   "cell_type": "markdown",
   "metadata": {},
   "source": [
    "### Step 8: Final Computation 🖥️\n",
    "\n",
    "In this last step, we're going to finish up some calculations:\n",
    "\n",
    "1. Create the lags and percentage change for the closing stock price. \n",
    "2. Calculate the 3 month rolling average."
   ]
  },
  {
   "cell_type": "code",
   "execution_count": 15,
   "metadata": {},
   "outputs": [
    {
     "data": {
      "text/html": [
       "<div>\n",
       "<style scoped>\n",
       "    .dataframe tbody tr th:only-of-type {\n",
       "        vertical-align: middle;\n",
       "    }\n",
       "\n",
       "    .dataframe tbody tr th {\n",
       "        vertical-align: top;\n",
       "    }\n",
       "\n",
       "    .dataframe thead th {\n",
       "        text-align: right;\n",
       "    }\n",
       "</style>\n",
       "<table border=\"1\" class=\"dataframe\">\n",
       "  <thead>\n",
       "    <tr style=\"text-align: right;\">\n",
       "      <th></th>\n",
       "      <th>timestamp</th>\n",
       "      <th>counter</th>\n",
       "      <th>close</th>\n",
       "      <th>volume</th>\n",
       "      <th>sentiment_score</th>\n",
       "      <th>close_lag1</th>\n",
       "      <th>perc_change_close</th>\n",
       "      <th>sentiment_score_lag1</th>\n",
       "      <th>perc_change_sentiment</th>\n",
       "      <th>sentiment_SMA3mo</th>\n",
       "    </tr>\n",
       "  </thead>\n",
       "  <tbody>\n",
       "    <tr>\n",
       "      <th>1</th>\n",
       "      <td>2022-03-01</td>\n",
       "      <td>298908</td>\n",
       "      <td>1099.56995</td>\n",
       "      <td>40225400</td>\n",
       "      <td>0.871303</td>\n",
       "      <td>932.00000</td>\n",
       "      <td>0.179796</td>\n",
       "      <td>0.865659</td>\n",
       "      <td>0.006519</td>\n",
       "      <td>0.000000</td>\n",
       "    </tr>\n",
       "    <tr>\n",
       "      <th>2</th>\n",
       "      <td>2022-04-01</td>\n",
       "      <td>204020</td>\n",
       "      <td>1145.44995</td>\n",
       "      <td>45377900</td>\n",
       "      <td>0.856062</td>\n",
       "      <td>1099.56995</td>\n",
       "      <td>0.041725</td>\n",
       "      <td>0.871303</td>\n",
       "      <td>-0.017491</td>\n",
       "      <td>0.864341</td>\n",
       "    </tr>\n",
       "    <tr>\n",
       "      <th>3</th>\n",
       "      <td>2022-05-01</td>\n",
       "      <td>394149</td>\n",
       "      <td>952.62000</td>\n",
       "      <td>48324400</td>\n",
       "      <td>0.859798</td>\n",
       "      <td>1145.44995</td>\n",
       "      <td>-0.168344</td>\n",
       "      <td>0.856062</td>\n",
       "      <td>0.004363</td>\n",
       "      <td>0.862388</td>\n",
       "    </tr>\n",
       "    <tr>\n",
       "      <th>4</th>\n",
       "      <td>2022-06-01</td>\n",
       "      <td>78141</td>\n",
       "      <td>775.00000</td>\n",
       "      <td>40931000</td>\n",
       "      <td>0.868556</td>\n",
       "      <td>952.62000</td>\n",
       "      <td>-0.186454</td>\n",
       "      <td>0.859798</td>\n",
       "      <td>0.010187</td>\n",
       "      <td>0.861472</td>\n",
       "    </tr>\n",
       "    <tr>\n",
       "      <th>5</th>\n",
       "      <td>2022-07-01</td>\n",
       "      <td>190969</td>\n",
       "      <td>681.78998</td>\n",
       "      <td>24781500</td>\n",
       "      <td>0.862636</td>\n",
       "      <td>775.00000</td>\n",
       "      <td>-0.120271</td>\n",
       "      <td>0.868556</td>\n",
       "      <td>-0.006816</td>\n",
       "      <td>0.863663</td>\n",
       "    </tr>\n",
       "  </tbody>\n",
       "</table>\n",
       "</div>"
      ],
      "text/plain": [
       "   timestamp  counter       close    volume  sentiment_score  close_lag1  \\\n",
       "1 2022-03-01   298908  1099.56995  40225400         0.871303   932.00000   \n",
       "2 2022-04-01   204020  1145.44995  45377900         0.856062  1099.56995   \n",
       "3 2022-05-01   394149   952.62000  48324400         0.859798  1145.44995   \n",
       "4 2022-06-01    78141   775.00000  40931000         0.868556   952.62000   \n",
       "5 2022-07-01   190969   681.78998  24781500         0.862636   775.00000   \n",
       "\n",
       "   perc_change_close  sentiment_score_lag1  perc_change_sentiment  \\\n",
       "1           0.179796              0.865659               0.006519   \n",
       "2           0.041725              0.871303              -0.017491   \n",
       "3          -0.168344              0.856062               0.004363   \n",
       "4          -0.186454              0.859798               0.010187   \n",
       "5          -0.120271              0.868556              -0.006816   \n",
       "\n",
       "   sentiment_SMA3mo  \n",
       "1          0.000000  \n",
       "2          0.864341  \n",
       "3          0.862388  \n",
       "4          0.861472  \n",
       "5          0.863663  "
      ]
     },
     "execution_count": 15,
     "metadata": {},
     "output_type": "execute_result"
    }
   ],
   "source": [
    "# Create lags and %change for closing stock price\n",
    "dfSentiment['close_lag1'] = dfSentiment['close'].shift(1)\n",
    "dfSentiment['close_lag1'] = dfSentiment['close_lag1'].fillna(0)\n",
    "dfSentiment['perc_change_close'] = (dfSentiment['close'] - dfSentiment['close_lag1']) / dfSentiment['close_lag1']\n",
    "dfSentiment['perc_change_close'] = dfSentiment['perc_change_close'].fillna(0)\n",
    "\n",
    "dfSentiment['sentiment_score_lag1'] = dfSentiment['sentiment_score'].shift(1)\n",
    "dfSentiment['sentiment_score_lag1'] = dfSentiment['sentiment_score_lag1'].fillna(0)\n",
    "dfSentiment['perc_change_sentiment'] = (dfSentiment['sentiment_score'] - dfSentiment['sentiment_score_lag1']) / dfSentiment['sentiment_score_lag1']\n",
    "\n",
    "# Calculate 3 month rolling average\n",
    "dfSentiment['sentiment_SMA3mo'] = dfSentiment.sentiment_score.rolling(3).mean()\n",
    "dfSentiment['sentiment_SMA3mo'] = dfSentiment['sentiment_SMA3mo'].fillna(0)\n",
    "\n",
    "dfSentiment = dfSentiment[1:]\n",
    "dfSentiment"
   ]
  },
  {
   "cell_type": "markdown",
   "metadata": {},
   "source": [
    "Let's save our work in a `.csv` for use later in the Streamlit app!"
   ]
  },
  {
   "cell_type": "code",
   "execution_count": 16,
   "metadata": {},
   "outputs": [],
   "source": [
    "# Save DataFrame locally (or somewhere else) for use in Streamlit app\n",
    "dfSentiment.to_csv('./sentiment_data.csv')"
   ]
  },
  {
   "cell_type": "markdown",
   "metadata": {},
   "source": [
    "### Step 8a: Plotting our Results! 📊\n",
    "\n",
    "Now, after all that, let's plot our results and see how they shape up!"
   ]
  },
  {
   "cell_type": "code",
   "execution_count": 17,
   "metadata": {},
   "outputs": [
    {
     "data": {
      "image/png": "[encoded data removed]",
      "text/plain": [
       "<Figure size 432x288 with 2 Axes>"
      ]
     },
     "metadata": {
      "needs_background": "light"
     },
     "output_type": "display_data"
    }
   ],
   "source": [
    "import matplotlib.pyplot as plt\n",
    "\n",
    "ax1 = dfSentiment.plot(kind = 'line', x = 'timestamp',\n",
    "                  y = 'sentiment_score', color = 'Red',\n",
    "                  linewidth = 3)\n",
    "\n",
    "ax2 = dfSentiment.plot(kind = 'line', x = 'timestamp',\n",
    "                   y = 'close', secondary_y = True,\n",
    "                   color = 'Blue',  linewidth = 3,\n",
    "                   ax = ax1) \n",
    "\n",
    "#labeling x and y-axis\n",
    "ax1.set_xlabel('Timestamp', color = 'black')\n",
    "ax1.set_ylabel('Sentiment Score', color = \"r\")\n",
    "ax2.set_ylabel('% Change Stock Price', color = 'b')\n",
    " \n",
    "#defining display layout\n",
    "plt.tight_layout()\n",
    " \n",
    "#show plot\n",
    "plt.show()"
   ]
  }
 ],
 "metadata": {
  "kernelspec": {
   "display_name": "Python 3.8.13 ('tsla_bot')",
   "language": "python",
   "name": "python3"
  },
  "language_info": {
   "codemirror_mode": {
    "name": "ipython",
    "version": 3
   },
   "file_extension": ".py",
   "mimetype": "text/x-python",
   "name": "python",
   "nbconvert_exporter": "python",
   "pygments_lexer": "ipython3",
   "version": "3.8.13"
  },
  "vscode": {
   "interpreter": {
    "hash": "7fc607194c78f50f27b10f37ba93e7bd5dfcb69d2562a46e421481cd58d31f73"
   }
  }
 },
 "nbformat": 4,
 "nbformat_minor": 2
}
