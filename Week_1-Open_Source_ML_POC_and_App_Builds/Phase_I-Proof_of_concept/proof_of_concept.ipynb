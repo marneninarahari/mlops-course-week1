{
 "cells": [
  {
   "cell_type": "markdown",
   "metadata": {},
   "source": [
    "<p align = \"center\" draggable=”false” ><img src=\"https://user-images.githubusercontent.com/37101144/161836199-fdb0219d-0361-4988-bf26-48b0fad160a3.png\"\n",
    "     width=\"200px\"\n",
    "     height=\"auto\"/>\n",
    "</p>\n",
    "\n",
    "\n",
    "\n",
    "# <h1 align=\"center\" id=\"heading\">Phase I - Proof of Concept</h1>\n",
    "\n",
    "\n",
    "\n",
    "## ☑️ Objectives\n",
    "At the end of this session, you will have a brief understanding of how to:\n",
    "- [ ] Find and run pre-trained models (Phase I)\n",
    "- [ ] Evaluate results from pre-trained models (Phase I)\n",
    "- [ ] Run a pre-trained model using real Reddit data (Phase I)\n",
    "\n",
    "\n",
    "## 🛠️ Pre-Assignment\n",
    "1. Create a virtual environment with 🐍 conda : `conda env create -f environment.yml`\n",
    "\n",
    "2. Activate your conda virtual environment: `conda activate tsla_bot`\n",
    "\n",
    "3. Create a .env file in the root directory and add the following variables:\n",
    "4. \n",
    "   `STOCK_API_KEY` : API key from [twelvedata](https://twelvedata.com/pricing)\n",
    "\n",
    "   `REDDIT_API_CLIENT_ID` : client ID of your reddit app\n",
    "   \n",
    "   `REDDIT_API_CLIENT_SECRET`: client secret of your reddit app\n",
    "   \n",
    "   Follow this tutorial to generate your own Reddit credentials:\n",
    "   <https://www.jcchouinard.com/get-reddit-api-credentials-with-praw/>\n",
    "\n",
    "4. Continue in this notebook\n",
    "\n",
    "\n",
    "\n",
    "## Background\n"
   ]
  },
  {
   "cell_type": "markdown",
   "metadata": {},
   "source": [
    "After the meeting with your boss, and reviewing your [notes](https://www.notion.so/Analyzing-Market-Sentiment-Phase-I-II-and-II-End-to-End-MLOps-with-Open-Source-Tools-dc4b846108b44f6bb2962d550368560c#54cc350bc95041ee873dabde36930af1) 📓, you're ready to get going on a Proof of Concept (POC)\n",
    "\n",
    "A POC tests the validity of your hypothesis. It's a way to prove that your idea, task, app, or whatever else works!\n",
    "\n",
    "There's no time to waste - you've got an idea - it's time to get testing it out! 🏁"
   ]
  },
  {
   "cell_type": "markdown",
   "metadata": {},
   "source": [
    "### Step 1: Initial Imports and Variable Setting 📈\n",
    "\n",
    "First things first: Let's set some variables that will help us going forward.\n",
    "\n",
    "Though your boss suggested `\"TSLA\"`, you can use any active stock-symbol and subreddit!\n",
    "\n",
    "**IMPORTANT**: Make sure you verify that your selected subreddit exists by navigating to the generated link after you run the following cell"
   ]
  },
  {
   "cell_type": "code",
   "execution_count": 1,
   "metadata": {},
   "outputs": [
    {
     "name": "stdout",
     "output_type": "stream",
     "text": [
      "reddit.com/r/teslainvestorsclub\n"
     ]
    }
   ],
   "source": [
    "from datetime import datetime, timedelta\n",
    "\n",
    "### START CODE HERE\n",
    "\n",
    "# Stock data to grab ex. \"TSLA\"\n",
    "symbol = \"TSLA\" \n",
    "\n",
    "# subreddit to check\n",
    "subreddit = 'teslainvestorsclub'\n",
    "\n",
    "# Time interval granularity\n",
    "# valid choices are \"1week\", \"1month\", \"1day\"\n",
    "interval = \"1month\"\n",
    "\n",
    "# set the beginning and end of the time range you'd like to analyze\n",
    "# ensure you use the format \"YYYY-MM-DD\"\n",
    "start_date = '2022-02-01'\n",
    "end_date = '2022-07-04'\n",
    "\n",
    "### END CODE HERE\n",
    "\n",
    "start_date_dt = datetime.strptime(start_date, '%Y-%m-%d')\n",
    "end_date_dt = datetime.strptime(end_date, '%Y-%m-%d')\n",
    "\n",
    "print(f'reddit.com/r/{subreddit}')"
   ]
  },
  {
   "cell_type": "markdown",
   "metadata": {},
   "source": [
    "In order to make sure we can import our `BotUtils.py`, we have to ensure we're running from the `TSLASentimentAnalyzer` folder. To do this, we can `cd` into that directory!"
   ]
  },
  {
   "cell_type": "code",
   "execution_count": 2,
   "metadata": {},
   "outputs": [
    {
     "name": "stdout",
     "output_type": "stream",
     "text": [
      "/home/mnarahariunix/mlops-course-fb-week1/mlops-course-week1/Week_1-Open_Source_ML_POC_and_App_Builds/Phase_I-Proof_of_concept/TSLASentimentAnalyzer\n"
     ]
    }
   ],
   "source": [
    "cd TSLASentimentAnalyzer"
   ]
  },
  {
   "cell_type": "markdown",
   "metadata": {},
   "source": [
    "### Step 2: Set Environment Variables ⛰️\n",
    "\n",
    "Use the information you created in the instructions of the `README.md` to fill in the values below!"
   ]
  },
  {
   "cell_type": "code",
   "execution_count": 3,
   "metadata": {},
   "outputs": [],
   "source": [
    "# define env variables for configuration\n",
    "import os\n",
    "from decouple import config\n",
    "os.environ['REDDIT_API_CLIENT_ID'] = config(\"REDDIT_API_CLIENT_ID\")\n",
    "os.environ['REDDIT_API_CLIENT_SECRET'] = config(\"REDDIT_API_CLIENT_SECRET\")\n",
    "os.environ['STOCK_DATA_API_KEY'] = config(\"STOCK_API_KEY\")"
   ]
  },
  {
   "cell_type": "markdown",
   "metadata": {},
   "source": [
    "### Step 3: Get to Scraping 🌐\n",
    "\n",
    "Now we're going to use the `scraper` module (found in the `TSLASentimentAnalyzer` folder) to \"scrape\" the subreddit of our choosing for posts!\n",
    "\n",
    "⚗️ RESOURCES: \n",
    "\n",
    "[Web Scraping](https://www.parsehub.com/blog/what-is-web-scraping/)\n",
    "\n",
    "[Reddit Post Options](https://www.reddit.com/r/help/comments/32eu8w/what_is_the_difference_between_newrising_hot_top/)"
   ]
  },
  {
   "cell_type": "markdown",
   "metadata": {},
   "source": [
    "##### Initializing the Scraper"
   ]
  },
  {
   "cell_type": "code",
   "execution_count": 4,
   "metadata": {},
   "outputs": [],
   "source": [
    "import pandas as pd\n",
    "from loguru import logger\n",
    "from TSLASentimentAnalyzer.classifier import predict\n",
    "from TSLASentimentAnalyzer.scraper import RedditScraper\n",
    "from TSLASentimentAnalyzer.config import settings\n",
    "\n",
    "# instantiating the reddit scraper\n",
    "### YOUR LINE OF CODE HERE\n",
    "reddit = RedditScraper(\"teslainvestorsclub\")"
   ]
  },
  {
   "cell_type": "markdown",
   "metadata": {},
   "source": [
    "##### Helper Functions 🔨\n",
    "\n",
    "Here are some helper functions to assist in collecting data!"
   ]
  },
  {
   "cell_type": "code",
   "execution_count": 5,
   "metadata": {},
   "outputs": [],
   "source": [
    "from collections.abc import Callable\n",
    "\n",
    "def load_comments(number: int, scraping_option: Callable) -> pd.DataFrame:\n",
    "    '''\n",
    "    loads comments from reddit using the RedditScraper using one of the options\n",
    "    and returns a DataFrame\n",
    "\n",
    "    Parameters\n",
    "    ----------\n",
    "    number : int\n",
    "        number of posts to load comments from\n",
    "\n",
    "    scraping_options: callable\n",
    "        expects a select_scrap_type function\n",
    "    '''\n",
    "    comments = []\n",
    "    for submission in scraping_option(number):\n",
    "        comments.extend(reddit.get_comment_forest(submission.comments))\n",
    "        logger.debug(\n",
    "            submission.title,\n",
    "            submission.num_comments,\n",
    "            len(reddit.get_comment_forest(submission.comments)),\n",
    "        )\n",
    "    df = pd.DataFrame(comments)\n",
    "    return df\n",
    "\n",
    "\n",
    "def select_scrap_type(option: str) -> Callable:\n",
    "    '''\n",
    "    selects a method from the reddit object based on a given option\n",
    "    '''\n",
    "    if option == \"Hot\":\n",
    "        return reddit.get_hot\n",
    "        \n",
    "    if option == \"Rising\":\n",
    "        return reddit.get_rising\n",
    "\n",
    "    if option == \"New\":\n",
    "        return reddit.get_new"
   ]
  },
  {
   "cell_type": "markdown",
   "metadata": {},
   "source": [
    "##### Loading & Processing the Reddit Comment Data\n",
    "\n",
    "Let's scrape the 15 🔥 hottest 🔥 posts from your selected subreddit using the `load_data()` helper function!"
   ]
  },
  {
   "cell_type": "code",
   "execution_count": 6,
   "metadata": {},
   "outputs": [
    {
     "name": "stderr",
     "output_type": "stream",
     "text": [
      "2022-07-12 16:10:29.748 | DEBUG    | TSLASentimentAnalyzer.scraper:get_comment_forest:41 - <praw.models.comment_forest.CommentForest object at 0x7f8c35ec9e50>\n",
      "2022-07-12 16:10:29.749 | DEBUG    | TSLASentimentAnalyzer.scraper:get_comment_forest:41 - <praw.models.comment_forest.CommentForest object at 0x7f8c35ec9e50>\n",
      "2022-07-12 16:10:29.749 | DEBUG    | __main__:load_comments:19 - Daily Thread - July 12, 2022\n",
      "2022-07-12 16:10:43.010 | DEBUG    | TSLASentimentAnalyzer.scraper:get_comment_forest:41 - <praw.models.comment_forest.CommentForest object at 0x7f8c892869a0>\n",
      "2022-07-12 16:10:43.011 | INFO     | TSLASentimentAnalyzer.scraper:get_comment_forest:44 - more comments\n",
      "2022-07-12 16:10:53.044 | DEBUG    | TSLASentimentAnalyzer.scraper:get_comment_forest:41 - <MoreComments count=2, children=['i7gb61c']>\n",
      "2022-07-12 16:10:53.045 | DEBUG    | TSLASentimentAnalyzer.scraper:get_comment_forest:45 - [{'comment': 'Hate speech is free speech. Like it or not. If you dislike Twitter then move to Facebook.', 'title': 'Long-running Thread for Detailed Discussion', 'id': 'i7gb61c', 'created_at': 1651773134, 'score': 0}, {'comment': \"Walked right into that one, no?  Where, precisely, was the government impeding anyone's speech on Twitter?  No government censorship then it ain't a free speech matter.  It's a consequence-of-being-an-asshat-matter, just as it is for those thinking hate speech is permissible.  See also: paradox of tolerance.\", 'title': 'Long-running Thread for Detailed Discussion', 'id': 'i7h9jhn', 'created_at': 1651787094, 'score': 1}]\n",
      "2022-07-12 16:10:53.046 | INFO     | TSLASentimentAnalyzer.scraper:get_comment_forest:44 - more comments\n",
      "2022-07-12 16:11:03.219 | DEBUG    | TSLASentimentAnalyzer.scraper:get_comment_forest:41 - <MoreComments count=4, children=['i8zd27n']>\n",
      "2022-07-12 16:11:03.220 | DEBUG    | TSLASentimentAnalyzer.scraper:get_comment_forest:45 - [{'comment': 'The average income in China is like $8500/year. In India it’s like $2k. Those two countries comprise a huge portion of the worlds population. They are not going to lease a Tesla', 'title': 'Long-running Thread for Detailed Discussion', 'id': 'i8zd27n', 'created_at': 1652814797, 'score': 0}, {'comment': \"I disagree entirely with the premise of this comment: We're comparing like for like, and assuming better TCO. Those people wouldn't be buying a TM3/TMY-equivalent combustion vehicle either. \\n\\nIf we're stretching the conversation that far, you might as well add in all fish who can't drive a TM3 under the ocean, too.\", 'title': 'Long-running Thread for Detailed Discussion', 'id': 'i8zj7d7', 'created_at': 1652817316, 'score': 4}, {'comment': 'Yes you are right about that. I guess what I was getting at is that that Tesla currently competes in a niche luxury market segment for automobiles.', 'title': 'Long-running Thread for Detailed Discussion', 'id': 'i8zko83', 'created_at': 1652817924, 'score': 1}, {'comment': \"I agree. However, they are not inherently stuck in that niche, and it's TCO you want to base your analysis on, not retail sale price.\", 'title': 'Long-running Thread for Detailed Discussion', 'id': 'i8zljm8', 'created_at': 1652818287, 'score': 5}]\n",
      "2022-07-12 16:11:03.221 | INFO     | TSLASentimentAnalyzer.scraper:get_comment_forest:44 - more comments\n",
      "2022-07-12 16:11:13.367 | DEBUG    | TSLASentimentAnalyzer.scraper:get_comment_forest:41 - <MoreComments count=1, children=['i8ed87n']>\n",
      "2022-07-12 16:11:13.368 | DEBUG    | TSLASentimentAnalyzer.scraper:get_comment_forest:45 - [{'comment': 'Yep, agreed.', 'title': 'Long-running Thread for Detailed Discussion', 'id': 'i8ed87n', 'created_at': 1652406930, 'score': 0}]\n",
      "2022-07-12 16:11:13.369 | INFO     | TSLASentimentAnalyzer.scraper:get_comment_forest:44 - more comments\n",
      "2022-07-12 16:11:23.524 | DEBUG    | TSLASentimentAnalyzer.scraper:get_comment_forest:41 - <MoreComments count=1, children=['i9laoge']>\n",
      "2022-07-12 16:11:23.525 | DEBUG    | TSLASentimentAnalyzer.scraper:get_comment_forest:45 - [{'comment': 'If he knew recession is coming, why is he buying twitter at 50% over its value screwing tsla investors in the process, \\nAs a CEO where some damn fiduciary responsibility to tesla’s shareholders and stop dhooting the company into their own legs with makinh fun of libtards and dems, hes killing off the demand and for every damn idiotic tweet he looses potential buyers, \\n\\nAnd dont tell me musk is musk, he was never this politically polarizing ,\\n\\nSomeone get his off the board of directors and maybe get him iff the platform and let him go back with playing with rockets and building cars which is his strong point', 'title': 'Long-running Thread for Detailed Discussion', 'id': 'i9laoge', 'created_at': 1653243546, 'score': 0}]\n",
      "2022-07-12 16:11:23.525 | INFO     | TSLASentimentAnalyzer.scraper:get_comment_forest:44 - more comments\n",
      "2022-07-12 16:11:33.780 | DEBUG    | TSLASentimentAnalyzer.scraper:get_comment_forest:41 - <MoreComments count=0, children=[]>\n",
      "2022-07-12 16:11:33.782 | DEBUG    | TSLASentimentAnalyzer.scraper:get_comment_forest:45 - [{'comment': \"Tesla is not just competing with other electric cars.\\n\\nThey are competing with all cars, [as you yourself just said.](https://www.reddit.com/r/teslainvestorsclub/comments/t0qeyu/comment/i89866n/?utm_source=reddit&utm_medium=web2x&context=3)\\n\\nIn fact, a friend of mine recently cross-shopped a TM3 and a AMG C43, and ended up with the C43 — which he's quite proud of.\", 'title': 'Long-running Thread for Detailed Discussion', 'id': 'i8bpatw', 'created_at': 1652367074, 'score': 2}]\n",
      "2022-07-12 16:11:33.782 | INFO     | TSLASentimentAnalyzer.scraper:get_comment_forest:44 - more comments\n",
      "2022-07-12 16:11:44.055 | DEBUG    | TSLASentimentAnalyzer.scraper:get_comment_forest:41 - <MoreComments count=0, children=[]>\n",
      "2022-07-12 16:11:44.056 | DEBUG    | TSLASentimentAnalyzer.scraper:get_comment_forest:45 - [{'comment': 'Or what percentage of incidents are known by Tesla to be caused by doing everything they can to minimize false negatives, something which could change when they get to a certain confidence level.\\n\\nBetter some uncomfortable rides than a string of dead kids.', 'title': 'Long-running Thread for Detailed Discussion', 'id': 'hyyy6dy', 'created_at': 1646173357, 'score': 3}]\n",
      "2022-07-12 16:11:44.057 | INFO     | TSLASentimentAnalyzer.scraper:get_comment_forest:44 - more comments\n",
      "2022-07-12 16:11:54.336 | DEBUG    | TSLASentimentAnalyzer.scraper:get_comment_forest:41 - <MoreComments count=0, children=[]>\n",
      "2022-07-12 16:11:54.337 | DEBUG    | TSLASentimentAnalyzer.scraper:get_comment_forest:45 - [{'comment': \"It's a investment forum, analysts are of financial nature in this sub. It's up to you to express yourself in a matter that we can understand. But I can tell you lack the maturity to accept you might have been less than absolute perfect alpha chad. That's why I surrender, you win!\", 'title': 'Long-running Thread for Detailed Discussion', 'id': 'i00lrkq', 'created_at': 1646857429, 'score': 0}]\n",
      "2022-07-12 16:11:54.337 | INFO     | TSLASentimentAnalyzer.scraper:get_comment_forest:44 - more comments\n",
      "2022-07-12 16:12:04.608 | DEBUG    | TSLASentimentAnalyzer.scraper:get_comment_forest:41 - <MoreComments count=0, children=[]>\n",
      "2022-07-12 16:12:04.609 | DEBUG    | TSLASentimentAnalyzer.scraper:get_comment_forest:45 - [{'comment': 'I will be messaging you in 3 years on [**2025-04-12 17:44:36 UTC**](http://www.wolframalpha.com/input/?i=2025-04-12%2017:44:36%20UTC%20To%20Local%20Time) to remind you of [**this link**](https://www.reddit.com/r/teslainvestorsclub/comments/t0qeyu/longrunning_thread_for_detailed_discussion/i4gfftu/?context=3)\\n\\n[**1 OTHERS CLICKED THIS LINK**](https://www.reddit.com/message/compose/?to=RemindMeBot&subject=Reminder&message=%5Bhttps%3A%2F%2Fwww.reddit.com%2Fr%2Fteslainvestorsclub%2Fcomments%2Ft0qeyu%2Flongrunning_thread_for_detailed_discussion%2Fi4gfftu%2F%5D%0A%0ARemindMe%21%202025-04-12%2017%3A44%3A36%20UTC) to send a PM to also be reminded and to reduce spam.\\n\\n^(Parent commenter can ) [^(delete this message to hide from others.)](https://www.reddit.com/message/compose/?to=RemindMeBot&subject=Delete%20Comment&message=Delete%21%20t0qeyu)\\n\\n*****\\n\\n|[^(Info)](https://www.reddit.com/r/RemindMeBot/comments/e1bko7/remindmebot_info_v21/)|[^(Custom)](https://www.reddit.com/message/compose/?to=RemindMeBot&subject=Reminder&message=%5BLink%20or%20message%20inside%20square%20brackets%5D%0A%0ARemindMe%21%20Time%20period%20here)|[^(Your Reminders)](https://www.reddit.com/message/compose/?to=RemindMeBot&subject=List%20Of%20Reminders&message=MyReminders%21)|[^(Feedback)](https://www.reddit.com/message/compose/?to=Watchful1&subject=RemindMeBot%20Feedback)|\\n|-|-|-|-|', 'title': 'Long-running Thread for Detailed Discussion', 'id': 'i4gfj70', 'created_at': 1649785510, 'score': 1}]\n",
      "2022-07-12 16:12:04.610 | INFO     | TSLASentimentAnalyzer.scraper:get_comment_forest:44 - more comments\n",
      "2022-07-12 16:12:14.855 | DEBUG    | TSLASentimentAnalyzer.scraper:get_comment_forest:41 - <MoreComments count=0, children=[]>\n",
      "2022-07-12 16:12:14.856 | DEBUG    | TSLASentimentAnalyzer.scraper:get_comment_forest:45 - [{'comment': 'Exactly, thesis is the same. Bitcoin from 2013 - 2017 taught me to be patient and to switch off emotions in investing :)', 'title': 'Long-running Thread for Detailed Discussion', 'id': 'iaja4kc', 'created_at': 1653911779, 'score': 1}]\n",
      "2022-07-12 16:12:14.858 | DEBUG    | TSLASentimentAnalyzer.scraper:get_comment_forest:41 - <praw.models.comment_forest.CommentForest object at 0x7f8c892869a0>\n",
      "2022-07-12 16:12:14.860 | INFO     | TSLASentimentAnalyzer.scraper:get_comment_forest:44 - more comments\n",
      "2022-07-12 16:12:14.861 | DEBUG    | TSLASentimentAnalyzer.scraper:get_comment_forest:41 - <MoreComments count=2, children=['i7gb61c']>\n",
      "2022-07-12 16:12:14.862 | DEBUG    | TSLASentimentAnalyzer.scraper:get_comment_forest:45 - [{'comment': 'Hate speech is free speech. Like it or not. If you dislike Twitter then move to Facebook.', 'title': 'Long-running Thread for Detailed Discussion', 'id': 'i7gb61c', 'created_at': 1651773134, 'score': 0}, {'comment': \"Walked right into that one, no?  Where, precisely, was the government impeding anyone's speech on Twitter?  No government censorship then it ain't a free speech matter.  It's a consequence-of-being-an-asshat-matter, just as it is for those thinking hate speech is permissible.  See also: paradox of tolerance.\", 'title': 'Long-running Thread for Detailed Discussion', 'id': 'i7h9jhn', 'created_at': 1651787094, 'score': 1}]\n",
      "2022-07-12 16:12:14.863 | INFO     | TSLASentimentAnalyzer.scraper:get_comment_forest:44 - more comments\n",
      "2022-07-12 16:12:14.864 | DEBUG    | TSLASentimentAnalyzer.scraper:get_comment_forest:41 - <MoreComments count=4, children=['i8zd27n']>\n",
      "2022-07-12 16:12:14.865 | DEBUG    | TSLASentimentAnalyzer.scraper:get_comment_forest:45 - [{'comment': 'The average income in China is like $8500/year. In India it’s like $2k. Those two countries comprise a huge portion of the worlds population. They are not going to lease a Tesla', 'title': 'Long-running Thread for Detailed Discussion', 'id': 'i8zd27n', 'created_at': 1652814797, 'score': 0}, {'comment': \"I disagree entirely with the premise of this comment: We're comparing like for like, and assuming better TCO. Those people wouldn't be buying a TM3/TMY-equivalent combustion vehicle either. \\n\\nIf we're stretching the conversation that far, you might as well add in all fish who can't drive a TM3 under the ocean, too.\", 'title': 'Long-running Thread for Detailed Discussion', 'id': 'i8zj7d7', 'created_at': 1652817316, 'score': 4}, {'comment': 'Yes you are right about that. I guess what I was getting at is that that Tesla currently competes in a niche luxury market segment for automobiles.', 'title': 'Long-running Thread for Detailed Discussion', 'id': 'i8zko83', 'created_at': 1652817924, 'score': 1}, {'comment': \"I agree. However, they are not inherently stuck in that niche, and it's TCO you want to base your analysis on, not retail sale price.\", 'title': 'Long-running Thread for Detailed Discussion', 'id': 'i8zljm8', 'created_at': 1652818287, 'score': 5}]\n",
      "2022-07-12 16:12:14.865 | INFO     | TSLASentimentAnalyzer.scraper:get_comment_forest:44 - more comments\n",
      "2022-07-12 16:12:14.866 | DEBUG    | TSLASentimentAnalyzer.scraper:get_comment_forest:41 - <MoreComments count=1, children=['i8ed87n']>\n",
      "2022-07-12 16:12:14.866 | DEBUG    | TSLASentimentAnalyzer.scraper:get_comment_forest:45 - [{'comment': 'Yep, agreed.', 'title': 'Long-running Thread for Detailed Discussion', 'id': 'i8ed87n', 'created_at': 1652406930, 'score': 0}]\n",
      "2022-07-12 16:12:14.867 | INFO     | TSLASentimentAnalyzer.scraper:get_comment_forest:44 - more comments\n",
      "2022-07-12 16:12:14.867 | DEBUG    | TSLASentimentAnalyzer.scraper:get_comment_forest:41 - <MoreComments count=1, children=['i9laoge']>\n",
      "2022-07-12 16:12:14.868 | DEBUG    | TSLASentimentAnalyzer.scraper:get_comment_forest:45 - [{'comment': 'If he knew recession is coming, why is he buying twitter at 50% over its value screwing tsla investors in the process, \\nAs a CEO where some damn fiduciary responsibility to tesla’s shareholders and stop dhooting the company into their own legs with makinh fun of libtards and dems, hes killing off the demand and for every damn idiotic tweet he looses potential buyers, \\n\\nAnd dont tell me musk is musk, he was never this politically polarizing ,\\n\\nSomeone get his off the board of directors and maybe get him iff the platform and let him go back with playing with rockets and building cars which is his strong point', 'title': 'Long-running Thread for Detailed Discussion', 'id': 'i9laoge', 'created_at': 1653243546, 'score': 0}]\n",
      "2022-07-12 16:12:14.868 | INFO     | TSLASentimentAnalyzer.scraper:get_comment_forest:44 - more comments\n",
      "2022-07-12 16:12:14.869 | DEBUG    | TSLASentimentAnalyzer.scraper:get_comment_forest:41 - <MoreComments count=0, children=[]>\n",
      "2022-07-12 16:12:14.869 | DEBUG    | TSLASentimentAnalyzer.scraper:get_comment_forest:45 - [{'comment': \"Tesla is not just competing with other electric cars.\\n\\nThey are competing with all cars, [as you yourself just said.](https://www.reddit.com/r/teslainvestorsclub/comments/t0qeyu/comment/i89866n/?utm_source=reddit&utm_medium=web2x&context=3)\\n\\nIn fact, a friend of mine recently cross-shopped a TM3 and a AMG C43, and ended up with the C43 — which he's quite proud of.\", 'title': 'Long-running Thread for Detailed Discussion', 'id': 'i8bpatw', 'created_at': 1652367074, 'score': 2}]\n",
      "2022-07-12 16:12:14.869 | INFO     | TSLASentimentAnalyzer.scraper:get_comment_forest:44 - more comments\n",
      "2022-07-12 16:12:14.870 | DEBUG    | TSLASentimentAnalyzer.scraper:get_comment_forest:41 - <MoreComments count=0, children=[]>\n",
      "2022-07-12 16:12:14.870 | DEBUG    | TSLASentimentAnalyzer.scraper:get_comment_forest:45 - [{'comment': 'Or what percentage of incidents are known by Tesla to be caused by doing everything they can to minimize false negatives, something which could change when they get to a certain confidence level.\\n\\nBetter some uncomfortable rides than a string of dead kids.', 'title': 'Long-running Thread for Detailed Discussion', 'id': 'hyyy6dy', 'created_at': 1646173357, 'score': 3}]\n",
      "2022-07-12 16:12:14.871 | INFO     | TSLASentimentAnalyzer.scraper:get_comment_forest:44 - more comments\n",
      "2022-07-12 16:12:14.871 | DEBUG    | TSLASentimentAnalyzer.scraper:get_comment_forest:41 - <MoreComments count=0, children=[]>\n",
      "2022-07-12 16:12:14.872 | DEBUG    | TSLASentimentAnalyzer.scraper:get_comment_forest:45 - [{'comment': \"It's a investment forum, analysts are of financial nature in this sub. It's up to you to express yourself in a matter that we can understand. But I can tell you lack the maturity to accept you might have been less than absolute perfect alpha chad. That's why I surrender, you win!\", 'title': 'Long-running Thread for Detailed Discussion', 'id': 'i00lrkq', 'created_at': 1646857429, 'score': 0}]\n",
      "2022-07-12 16:12:14.872 | INFO     | TSLASentimentAnalyzer.scraper:get_comment_forest:44 - more comments\n",
      "2022-07-12 16:12:14.873 | DEBUG    | TSLASentimentAnalyzer.scraper:get_comment_forest:41 - <MoreComments count=0, children=[]>\n",
      "2022-07-12 16:12:14.873 | DEBUG    | TSLASentimentAnalyzer.scraper:get_comment_forest:45 - [{'comment': 'I will be messaging you in 3 years on [**2025-04-12 17:44:36 UTC**](http://www.wolframalpha.com/input/?i=2025-04-12%2017:44:36%20UTC%20To%20Local%20Time) to remind you of [**this link**](https://www.reddit.com/r/teslainvestorsclub/comments/t0qeyu/longrunning_thread_for_detailed_discussion/i4gfftu/?context=3)\\n\\n[**1 OTHERS CLICKED THIS LINK**](https://www.reddit.com/message/compose/?to=RemindMeBot&subject=Reminder&message=%5Bhttps%3A%2F%2Fwww.reddit.com%2Fr%2Fteslainvestorsclub%2Fcomments%2Ft0qeyu%2Flongrunning_thread_for_detailed_discussion%2Fi4gfftu%2F%5D%0A%0ARemindMe%21%202025-04-12%2017%3A44%3A36%20UTC) to send a PM to also be reminded and to reduce spam.\\n\\n^(Parent commenter can ) [^(delete this message to hide from others.)](https://www.reddit.com/message/compose/?to=RemindMeBot&subject=Delete%20Comment&message=Delete%21%20t0qeyu)\\n\\n*****\\n\\n|[^(Info)](https://www.reddit.com/r/RemindMeBot/comments/e1bko7/remindmebot_info_v21/)|[^(Custom)](https://www.reddit.com/message/compose/?to=RemindMeBot&subject=Reminder&message=%5BLink%20or%20message%20inside%20square%20brackets%5D%0A%0ARemindMe%21%20Time%20period%20here)|[^(Your Reminders)](https://www.reddit.com/message/compose/?to=RemindMeBot&subject=List%20Of%20Reminders&message=MyReminders%21)|[^(Feedback)](https://www.reddit.com/message/compose/?to=Watchful1&subject=RemindMeBot%20Feedback)|\\n|-|-|-|-|', 'title': 'Long-running Thread for Detailed Discussion', 'id': 'i4gfj70', 'created_at': 1649785510, 'score': 1}]\n",
      "2022-07-12 16:12:14.874 | INFO     | TSLASentimentAnalyzer.scraper:get_comment_forest:44 - more comments\n",
      "2022-07-12 16:12:14.874 | DEBUG    | TSLASentimentAnalyzer.scraper:get_comment_forest:41 - <MoreComments count=0, children=[]>\n",
      "2022-07-12 16:12:14.875 | DEBUG    | TSLASentimentAnalyzer.scraper:get_comment_forest:45 - [{'comment': 'Exactly, thesis is the same. Bitcoin from 2013 - 2017 taught me to be patient and to switch off emotions in investing :)', 'title': 'Long-running Thread for Detailed Discussion', 'id': 'iaja4kc', 'created_at': 1653911779, 'score': 1}]\n",
      "2022-07-12 16:12:14.875 | DEBUG    | __main__:load_comments:19 - Long-running Thread for Detailed Discussion\n",
      "2022-07-12 16:12:25.164 | DEBUG    | TSLASentimentAnalyzer.scraper:get_comment_forest:41 - <praw.models.comment_forest.CommentForest object at 0x7f8c35cff910>\n",
      "2022-07-12 16:12:25.165 | DEBUG    | TSLASentimentAnalyzer.scraper:get_comment_forest:41 - <praw.models.comment_forest.CommentForest object at 0x7f8c35cff910>\n",
      "2022-07-12 16:12:25.166 | DEBUG    | __main__:load_comments:19 - \"Wild array of spaghetti lines\" under the hood of BMW i4 M50\n",
      "2022-07-12 16:12:35.449 | DEBUG    | TSLASentimentAnalyzer.scraper:get_comment_forest:41 - <praw.models.comment_forest.CommentForest object at 0x7f8c35c93fd0>\n",
      "2022-07-12 16:12:35.450 | DEBUG    | TSLASentimentAnalyzer.scraper:get_comment_forest:41 - <praw.models.comment_forest.CommentForest object at 0x7f8c35c93fd0>\n",
      "2022-07-12 16:12:35.450 | DEBUG    | __main__:load_comments:19 - Tesla-Hertz partnership expands to sixteen new cities\n",
      "2022-07-12 16:12:45.628 | DEBUG    | TSLASentimentAnalyzer.scraper:get_comment_forest:41 - <praw.models.comment_forest.CommentForest object at 0x7f8c35c9b250>\n",
      "2022-07-12 16:12:45.628 | DEBUG    | TSLASentimentAnalyzer.scraper:get_comment_forest:41 - <praw.models.comment_forest.CommentForest object at 0x7f8c35c9b250>\n",
      "2022-07-12 16:12:45.629 | DEBUG    | __main__:load_comments:19 - Elon Musk - No problem to recycle the 4680 pack. Just think of any battery pack as super high grade ore – it is always better to start with high grade ore than low grade!\n",
      "2022-07-12 16:12:55.835 | DEBUG    | TSLASentimentAnalyzer.scraper:get_comment_forest:41 - <praw.models.comment_forest.CommentForest object at 0x7f8c35b79520>\n",
      "2022-07-12 16:12:55.836 | DEBUG    | TSLASentimentAnalyzer.scraper:get_comment_forest:41 - <praw.models.comment_forest.CommentForest object at 0x7f8c35b79520>\n",
      "2022-07-12 16:12:55.837 | DEBUG    | __main__:load_comments:19 - CATL said to mass produce lithium manganese iron phosphate batteries within this year\n",
      "2022-07-12 16:13:06.037 | DEBUG    | TSLASentimentAnalyzer.scraper:get_comment_forest:41 - <praw.models.comment_forest.CommentForest object at 0x7f8c35b79b20>\n",
      "2022-07-12 16:13:06.039 | DEBUG    | TSLASentimentAnalyzer.scraper:get_comment_forest:41 - <praw.models.comment_forest.CommentForest object at 0x7f8c35b79b20>\n",
      "2022-07-12 16:13:06.040 | DEBUG    | __main__:load_comments:19 - Tesla wins CCI 2022 award\n",
      "2022-07-12 16:13:16.353 | DEBUG    | TSLASentimentAnalyzer.scraper:get_comment_forest:41 - <praw.models.comment_forest.CommentForest object at 0x7f8c35b7e850>\n",
      "2022-07-12 16:13:16.354 | DEBUG    | TSLASentimentAnalyzer.scraper:get_comment_forest:41 - <praw.models.comment_forest.CommentForest object at 0x7f8c35b7e850>\n",
      "2022-07-12 16:13:16.354 | DEBUG    | __main__:load_comments:19 - MunroLive - 4680 Battery Announcement\n",
      "2022-07-12 16:13:26.554 | DEBUG    | TSLASentimentAnalyzer.scraper:get_comment_forest:41 - <praw.models.comment_forest.CommentForest object at 0x7f8c35edfb80>\n",
      "2022-07-12 16:13:26.555 | DEBUG    | TSLASentimentAnalyzer.scraper:get_comment_forest:41 - <praw.models.comment_forest.CommentForest object at 0x7f8c35edfb80>\n",
      "2022-07-12 16:13:26.556 | DEBUG    | __main__:load_comments:19 - The Boring Company’s Resorts World Loop is a small but major step forward\n",
      "2022-07-12 16:13:36.812 | DEBUG    | TSLASentimentAnalyzer.scraper:get_comment_forest:41 - <praw.models.comment_forest.CommentForest object at 0x7f8c35b8dd00>\n",
      "2022-07-12 16:13:36.813 | DEBUG    | TSLASentimentAnalyzer.scraper:get_comment_forest:41 - <praw.models.comment_forest.CommentForest object at 0x7f8c35b8dd00>\n",
      "2022-07-12 16:13:36.813 | DEBUG    | __main__:load_comments:19 - Tesla Intends to Sell Good Quality Model Ys Produced at Giga Berlin as Part of Testing to Avoid Unnecessary Recycling\n",
      "2022-07-12 16:13:47.252 | DEBUG    | TSLASentimentAnalyzer.scraper:get_comment_forest:41 - <praw.models.comment_forest.CommentForest object at 0x7f8c35b8ddf0>\n",
      "2022-07-12 16:13:47.253 | DEBUG    | TSLASentimentAnalyzer.scraper:get_comment_forest:41 - <praw.models.comment_forest.CommentForest object at 0x7f8c35b8ddf0>\n",
      "2022-07-12 16:13:47.254 | DEBUG    | __main__:load_comments:19 - Week 23 update for FSDBeta Community Tracker\n",
      "2022-07-12 16:13:57.465 | DEBUG    | TSLASentimentAnalyzer.scraper:get_comment_forest:41 - <praw.models.comment_forest.CommentForest object at 0x7f8c35b28af0>\n",
      "2022-07-12 16:13:57.467 | DEBUG    | TSLASentimentAnalyzer.scraper:get_comment_forest:41 - <praw.models.comment_forest.CommentForest object at 0x7f8c35b28af0>\n",
      "2022-07-12 16:13:57.468 | DEBUG    | __main__:load_comments:19 - Latest CFRA’s note on $TSLA\n",
      "2022-07-12 16:14:07.748 | DEBUG    | TSLASentimentAnalyzer.scraper:get_comment_forest:41 - <praw.models.comment_forest.CommentForest object at 0x7f8c35b2ab50>\n",
      "2022-07-12 16:14:07.749 | DEBUG    | TSLASentimentAnalyzer.scraper:get_comment_forest:41 - <praw.models.comment_forest.CommentForest object at 0x7f8c35b2ab50>\n",
      "2022-07-12 16:14:07.750 | DEBUG    | __main__:load_comments:19 - Apple Seems Uncertain About its Self-Driving Car Project\n",
      "2022-07-12 16:14:18.029 | DEBUG    | TSLASentimentAnalyzer.scraper:get_comment_forest:41 - <praw.models.comment_forest.CommentForest object at 0x7f8c35b8dfd0>\n",
      "2022-07-12 16:14:18.030 | DEBUG    | TSLASentimentAnalyzer.scraper:get_comment_forest:41 - <praw.models.comment_forest.CommentForest object at 0x7f8c35b8dfd0>\n",
      "2022-07-12 16:14:18.031 | DEBUG    | __main__:load_comments:19 - 2021-22 Mustang Mach-E owners slap Ford with federal lawsuit over safety defect\n",
      "2022-07-12 16:14:28.589 | DEBUG    | TSLASentimentAnalyzer.scraper:get_comment_forest:41 - <praw.models.comment_forest.CommentForest object at 0x7f8c35b52d60>\n",
      "2022-07-12 16:14:28.590 | DEBUG    | TSLASentimentAnalyzer.scraper:get_comment_forest:41 - <praw.models.comment_forest.CommentForest object at 0x7f8c35b52d60>\n",
      "2022-07-12 16:14:28.591 | DEBUG    | __main__:load_comments:19 - CFRA Reiterates Strong Buy Rating and $1,100 PT\n"
     ]
    }
   ],
   "source": [
    "# Scraping data from reddit\n",
    "### YOUR LINE OF CODE HERE\n",
    "dfReddit = load_comments(15, select_scrap_type(\"Hot\"))"
   ]
  },
  {
   "cell_type": "code",
   "execution_count": 7,
   "metadata": {},
   "outputs": [
    {
     "data": {
      "text/html": [
       "<div>\n",
       "<style scoped>\n",
       "    .dataframe tbody tr th:only-of-type {\n",
       "        vertical-align: middle;\n",
       "    }\n",
       "\n",
       "    .dataframe tbody tr th {\n",
       "        vertical-align: top;\n",
       "    }\n",
       "\n",
       "    .dataframe thead th {\n",
       "        text-align: right;\n",
       "    }\n",
       "</style>\n",
       "<table border=\"1\" class=\"dataframe\">\n",
       "  <thead>\n",
       "    <tr style=\"text-align: right;\">\n",
       "      <th></th>\n",
       "      <th>comment</th>\n",
       "      <th>title</th>\n",
       "      <th>id</th>\n",
       "      <th>created_at</th>\n",
       "      <th>score</th>\n",
       "    </tr>\n",
       "  </thead>\n",
       "  <tbody>\n",
       "    <tr>\n",
       "      <th>0</th>\n",
       "      <td>Bought 25 more at 694 ![img](emote|t5_n9evv|3838)</td>\n",
       "      <td>Daily Thread - July 12, 2022</td>\n",
       "      <td>ifvj5fb</td>\n",
       "      <td>1657643730</td>\n",
       "      <td>11</td>\n",
       "    </tr>\n",
       "    <tr>\n",
       "      <th>1</th>\n",
       "      <td>China locking down city of Wugang for three da...</td>\n",
       "      <td>Daily Thread - July 12, 2022</td>\n",
       "      <td>ifvvbeh</td>\n",
       "      <td>1657648563</td>\n",
       "      <td>10</td>\n",
       "    </tr>\n",
       "    <tr>\n",
       "      <th>2</th>\n",
       "      <td>Reminder that BMW, AUDI, TOYOTA, VOLKSWAGEN, N...</td>\n",
       "      <td>Daily Thread - July 12, 2022</td>\n",
       "      <td>ifwm3rn</td>\n",
       "      <td>1657659075</td>\n",
       "      <td>11</td>\n",
       "    </tr>\n",
       "    <tr>\n",
       "      <th>3</th>\n",
       "      <td>Anti-Elon narratives being exposed via this tw...</td>\n",
       "      <td>Daily Thread - July 12, 2022</td>\n",
       "      <td>ifwlchd</td>\n",
       "      <td>1657658781</td>\n",
       "      <td>10</td>\n",
       "    </tr>\n",
       "    <tr>\n",
       "      <th>4</th>\n",
       "      <td>Grateful to have dry powder ready to pick up a...</td>\n",
       "      <td>Daily Thread - July 12, 2022</td>\n",
       "      <td>ifu26gr</td>\n",
       "      <td>1657615967</td>\n",
       "      <td>7</td>\n",
       "    </tr>\n",
       "  </tbody>\n",
       "</table>\n",
       "</div>"
      ],
      "text/plain": [
       "                                             comment  \\\n",
       "0  Bought 25 more at 694 ![img](emote|t5_n9evv|3838)   \n",
       "1  China locking down city of Wugang for three da...   \n",
       "2  Reminder that BMW, AUDI, TOYOTA, VOLKSWAGEN, N...   \n",
       "3  Anti-Elon narratives being exposed via this tw...   \n",
       "4  Grateful to have dry powder ready to pick up a...   \n",
       "\n",
       "                          title       id  created_at  score  \n",
       "0  Daily Thread - July 12, 2022  ifvj5fb  1657643730     11  \n",
       "1  Daily Thread - July 12, 2022  ifvvbeh  1657648563     10  \n",
       "2  Daily Thread - July 12, 2022  ifwm3rn  1657659075     11  \n",
       "3  Daily Thread - July 12, 2022  ifwlchd  1657658781     10  \n",
       "4  Daily Thread - July 12, 2022  ifu26gr  1657615967      7  "
      ]
     },
     "execution_count": 7,
     "metadata": {},
     "output_type": "execute_result"
    }
   ],
   "source": [
    "dfReddit.head()"
   ]
  },
  {
   "cell_type": "markdown",
   "metadata": {},
   "source": [
    "Once we have our comments, let's use the [`pandas.Series.str.slice()`](https://pandas.pydata.org/docs/reference/api/pandas.Series.str.slice.html) method to ensure our data will play nicely with our model. (`bert` only supports up to a maximum of 512 tokens, so a range of `0` to `512` seems appropriate)"
   ]
  },
  {
   "cell_type": "code",
   "execution_count": 8,
   "metadata": {},
   "outputs": [],
   "source": [
    "# slice comments as bert supports only 512 tokens\n",
    "### YOUR LINE OF CODE HERE\n",
    "dfReddit['comment'] = dfReddit['comment'].str.slice(0, 1000)"
   ]
  },
  {
   "cell_type": "markdown",
   "metadata": {},
   "source": [
    "### Step 5: Analyze the Comments! 🔍\n"
   ]
  },
  {
   "cell_type": "markdown",
   "metadata": {},
   "source": [
    "We'll be using the `FourthBrain/bert_model_reddit_tsla` model (found [here](https://huggingface.co/FourthBrain/bert_model_reddit_tsla)), which is based off of the `distilbert-base-uncased` (found [here](https://huggingface.co/distilbert-base-uncased))\n",
    "\n",
    "We'll use this model in a `sentiment-analysis` pipeline! (read all about that [here](https://huggingface.co/docs/transformers/main_classes/pipelines#transformers.pipeline.example))"
   ]
  },
  {
   "cell_type": "code",
   "execution_count": 9,
   "metadata": {},
   "outputs": [],
   "source": [
    "from transformers import pipeline\n",
    "\n",
    "# initialize the sentiment pipeline\n",
    "### YOUR LINE OF CODE HERE\n",
    "sentiment_pipeline = pipeline('sentiment-analysis', 'FourthBrain/bert_model_reddit_tsla')\n",
    "\n",
    "\n",
    "reddit_json = sentiment_pipeline(dfReddit[\"comment\"].tolist())\n",
    "\n",
    "# Retrieve labels and scores\n",
    "dfReddit['label'] = [reddit_json[i]['label'] for i in range(0, len(reddit_json))]\n",
    "dfReddit['score'] = [reddit_json[i]['score'] for i in range(0, len(reddit_json))]\n"
   ]
  },
  {
   "cell_type": "markdown",
   "metadata": {},
   "source": [
    "Next up, we'll want to perform the following steps\n",
    "\n",
    "1. Convert the `created_at` column to the appropriate format and name it `'timestamp'`\n",
    "2. Normalize the dates using the `NormalizeDates()` helper function"
   ]
  },
  {
   "cell_type": "code",
   "execution_count": 10,
   "metadata": {},
   "outputs": [],
   "source": [
    "import numpy as np\n",
    "from BotUtils import NormalizeDates\n",
    "\n",
    "# Rename timestamp column \n",
    "dfReddit = dfReddit.rename(columns={'created_at': 'timestamp'})\n",
    "dfReddit['timestamp'] = [datetime.fromtimestamp(dt) for dt in dfReddit['timestamp'] ]\n",
    "\n",
    "# Normalize Reddit sentiment data\n",
    "dfReddit = NormalizeDates(dfReddit, timestamp_col=\"timestamp\", interval=interval)\n",
    "\n",
    "# Create a continous time series \n",
    "dfTimeSeries = pd.DataFrame(dfReddit[\"timestamp\"])"
   ]
  },
  {
   "cell_type": "markdown",
   "metadata": {},
   "source": [
    "### Step 6: Get Stock Data 🚀\n",
    "\n",
    "Next up, we're going to get the stock data and create a DataFrame - as well as normalize the dates, just like we did with the subreddit comment timestamps"
   ]
  },
  {
   "cell_type": "code",
   "execution_count": 11,
   "metadata": {},
   "outputs": [],
   "source": [
    "from BotUtils import GetStockData\n",
    "\n",
    "# Get Stock Data\n",
    "j, dfStockData = GetStockData(settings.stock_data_api_key, symbol=symbol, start_date=start_date, end_date=end_date, interval='1day')\n",
    "dfStockData = dfStockData[(dfStockData['timestamp'] >= start_date) & (dfStockData['timestamp'] <= end_date)]\n",
    "\n",
    "# Normalize stock price data\n",
    "dfStockData = NormalizeDates(dfStockData, timestamp_col=\"timestamp\", interval=interval)"
   ]
  },
  {
   "cell_type": "markdown",
   "metadata": {},
   "source": [
    "### Step 7: Merge Sentiment and Stock Data 🧬\n",
    "\n",
    "We've got some processing to do! "
   ]
  },
  {
   "cell_type": "code",
   "execution_count": 12,
   "metadata": {},
   "outputs": [],
   "source": [
    "# Join time series df with stock price df and reddit df\n",
    "dfSentiment = dfTimeSeries.merge(dfStockData, how='left', on=\"timestamp\")\n",
    "dfSentiment = dfSentiment.merge(dfReddit, how='left', on=\"timestamp\")\n",
    "\n",
    "# Filter down to only the columns that we'll be using \n",
    "dfSentiment = dfSentiment[['timestamp', 'close', 'volume', 'label', 'score']]\n",
    "\n",
    "# Clean up NaNs for closing price, score, and labels\n",
    "dfSentiment['close'] = dfSentiment['close'].fillna(0)\n",
    "dfSentiment['score'] = dfSentiment['score'].fillna(0)\n",
    "dfSentiment['label'] = dfSentiment['label'].fillna('NEUTRAL')\n",
    "dfSentiment['label'] = ['NEGATIVE' for s in dfSentiment['label'] == 'LABEL_0']\n",
    "dfSentiment['label'] = ['POSITIVE' for s in dfSentiment['label'] == 'LABEL_1']\n",
    "\n",
    "# Convert close from string to float\n",
    "dfSentiment['close'] = dfSentiment['close'].astype('float')\n",
    "\n",
    "# Calculate weighted sentiment\n",
    "dfSentiment['sentiment'] = [1 if sentiment == \"POSITIVE\"  else 0 if sentiment == \"NEUTRAL\" else -1 for sentiment in dfSentiment['label'].tolist() ]\n",
    "dfSentiment['weighted_sentiment'] = dfSentiment['sentiment'] * dfSentiment['score']\n",
    "\n",
    "# Count only the POSITIVE and NEGATIVE labels (NEUTRAL is just a filler for missing dates)\n",
    "dfSentiment['counter'] = [1 if sentiment == \"POSITIVE\"  else 1 if sentiment == \"NEGATIVE\" else 0 for sentiment in dfSentiment['label'].tolist() ]\n",
    "\n",
    "# Group by to calculate Reddit post count and sentiment score (mean of weighted sentiment)\n",
    "dfSentiment = dfSentiment.groupby('timestamp') \\\n",
    "       .agg({'counter':'sum', 'close':'max', 'volume':max, 'weighted_sentiment':'mean'}) \\\n",
    "       .rename(columns={'sentiment':'count_posts', 'weighted_sentiment':'sentiment_score'}) \\\n",
    "       .reset_index()\n"
   ]
  },
  {
   "cell_type": "code",
   "execution_count": 13,
   "metadata": {},
   "outputs": [
    {
     "data": {
      "text/html": [
       "<div>\n",
       "<style scoped>\n",
       "    .dataframe tbody tr th:only-of-type {\n",
       "        vertical-align: middle;\n",
       "    }\n",
       "\n",
       "    .dataframe tbody tr th {\n",
       "        vertical-align: top;\n",
       "    }\n",
       "\n",
       "    .dataframe thead th {\n",
       "        text-align: right;\n",
       "    }\n",
       "</style>\n",
       "<table border=\"1\" class=\"dataframe\">\n",
       "  <thead>\n",
       "    <tr style=\"text-align: right;\">\n",
       "      <th></th>\n",
       "      <th>timestamp</th>\n",
       "      <th>counter</th>\n",
       "      <th>close</th>\n",
       "      <th>volume</th>\n",
       "      <th>sentiment_score</th>\n",
       "    </tr>\n",
       "  </thead>\n",
       "  <tbody>\n",
       "    <tr>\n",
       "      <th>0</th>\n",
       "      <td>2022-02-01</td>\n",
       "      <td>45619</td>\n",
       "      <td>932.00000</td>\n",
       "      <td>45107400</td>\n",
       "      <td>0.865659</td>\n",
       "    </tr>\n",
       "    <tr>\n",
       "      <th>1</th>\n",
       "      <td>2022-03-01</td>\n",
       "      <td>298908</td>\n",
       "      <td>1099.56995</td>\n",
       "      <td>40225400</td>\n",
       "      <td>0.871303</td>\n",
       "    </tr>\n",
       "    <tr>\n",
       "      <th>2</th>\n",
       "      <td>2022-04-01</td>\n",
       "      <td>204020</td>\n",
       "      <td>1145.44995</td>\n",
       "      <td>45377900</td>\n",
       "      <td>0.856062</td>\n",
       "    </tr>\n",
       "    <tr>\n",
       "      <th>3</th>\n",
       "      <td>2022-05-01</td>\n",
       "      <td>388416</td>\n",
       "      <td>952.62000</td>\n",
       "      <td>48324400</td>\n",
       "      <td>0.858971</td>\n",
       "    </tr>\n",
       "    <tr>\n",
       "      <th>4</th>\n",
       "      <td>2022-06-01</td>\n",
       "      <td>78141</td>\n",
       "      <td>775.00000</td>\n",
       "      <td>40931000</td>\n",
       "      <td>0.868556</td>\n",
       "    </tr>\n",
       "    <tr>\n",
       "      <th>5</th>\n",
       "      <td>2022-07-01</td>\n",
       "      <td>88209</td>\n",
       "      <td>681.78998</td>\n",
       "      <td>24781500</td>\n",
       "      <td>0.863844</td>\n",
       "    </tr>\n",
       "  </tbody>\n",
       "</table>\n",
       "</div>"
      ],
      "text/plain": [
       "   timestamp  counter       close    volume  sentiment_score\n",
       "0 2022-02-01    45619   932.00000  45107400         0.865659\n",
       "1 2022-03-01   298908  1099.56995  40225400         0.871303\n",
       "2 2022-04-01   204020  1145.44995  45377900         0.856062\n",
       "3 2022-05-01   388416   952.62000  48324400         0.858971\n",
       "4 2022-06-01    78141   775.00000  40931000         0.868556\n",
       "5 2022-07-01    88209   681.78998  24781500         0.863844"
      ]
     },
     "execution_count": 13,
     "metadata": {},
     "output_type": "execute_result"
    }
   ],
   "source": [
    "dfSentiment"
   ]
  },
  {
   "cell_type": "markdown",
   "metadata": {},
   "source": [
    "### Step 8: Final Computation 🖥️\n",
    "\n",
    "In this last step, we're going to finish up some calculations:\n",
    "\n",
    "1. Create the lags and percentage change for the closing stock price. \n",
    "2. Calculate the 3 month rolling average."
   ]
  },
  {
   "cell_type": "code",
   "execution_count": 14,
   "metadata": {},
   "outputs": [
    {
     "data": {
      "text/html": [
       "<div>\n",
       "<style scoped>\n",
       "    .dataframe tbody tr th:only-of-type {\n",
       "        vertical-align: middle;\n",
       "    }\n",
       "\n",
       "    .dataframe tbody tr th {\n",
       "        vertical-align: top;\n",
       "    }\n",
       "\n",
       "    .dataframe thead th {\n",
       "        text-align: right;\n",
       "    }\n",
       "</style>\n",
       "<table border=\"1\" class=\"dataframe\">\n",
       "  <thead>\n",
       "    <tr style=\"text-align: right;\">\n",
       "      <th></th>\n",
       "      <th>timestamp</th>\n",
       "      <th>counter</th>\n",
       "      <th>close</th>\n",
       "      <th>volume</th>\n",
       "      <th>sentiment_score</th>\n",
       "      <th>close_lag1</th>\n",
       "      <th>perc_change_close</th>\n",
       "      <th>sentiment_score_lag1</th>\n",
       "      <th>perc_change_sentiment</th>\n",
       "      <th>sentiment_SMA3mo</th>\n",
       "    </tr>\n",
       "  </thead>\n",
       "  <tbody>\n",
       "    <tr>\n",
       "      <th>1</th>\n",
       "      <td>2022-03-01</td>\n",
       "      <td>298908</td>\n",
       "      <td>1099.56995</td>\n",
       "      <td>40225400</td>\n",
       "      <td>0.871303</td>\n",
       "      <td>932.00000</td>\n",
       "      <td>0.179796</td>\n",
       "      <td>0.865659</td>\n",
       "      <td>0.006519</td>\n",
       "      <td>0.000000</td>\n",
       "    </tr>\n",
       "    <tr>\n",
       "      <th>2</th>\n",
       "      <td>2022-04-01</td>\n",
       "      <td>204020</td>\n",
       "      <td>1145.44995</td>\n",
       "      <td>45377900</td>\n",
       "      <td>0.856062</td>\n",
       "      <td>1099.56995</td>\n",
       "      <td>0.041725</td>\n",
       "      <td>0.871303</td>\n",
       "      <td>-0.017491</td>\n",
       "      <td>0.864341</td>\n",
       "    </tr>\n",
       "    <tr>\n",
       "      <th>3</th>\n",
       "      <td>2022-05-01</td>\n",
       "      <td>388416</td>\n",
       "      <td>952.62000</td>\n",
       "      <td>48324400</td>\n",
       "      <td>0.858971</td>\n",
       "      <td>1145.44995</td>\n",
       "      <td>-0.168344</td>\n",
       "      <td>0.856062</td>\n",
       "      <td>0.003397</td>\n",
       "      <td>0.862112</td>\n",
       "    </tr>\n",
       "    <tr>\n",
       "      <th>4</th>\n",
       "      <td>2022-06-01</td>\n",
       "      <td>78141</td>\n",
       "      <td>775.00000</td>\n",
       "      <td>40931000</td>\n",
       "      <td>0.868556</td>\n",
       "      <td>952.62000</td>\n",
       "      <td>-0.186454</td>\n",
       "      <td>0.858971</td>\n",
       "      <td>0.011159</td>\n",
       "      <td>0.861197</td>\n",
       "    </tr>\n",
       "    <tr>\n",
       "      <th>5</th>\n",
       "      <td>2022-07-01</td>\n",
       "      <td>88209</td>\n",
       "      <td>681.78998</td>\n",
       "      <td>24781500</td>\n",
       "      <td>0.863844</td>\n",
       "      <td>775.00000</td>\n",
       "      <td>-0.120271</td>\n",
       "      <td>0.868556</td>\n",
       "      <td>-0.005426</td>\n",
       "      <td>0.863790</td>\n",
       "    </tr>\n",
       "  </tbody>\n",
       "</table>\n",
       "</div>"
      ],
      "text/plain": [
       "   timestamp  counter       close    volume  sentiment_score  close_lag1  \\\n",
       "1 2022-03-01   298908  1099.56995  40225400         0.871303   932.00000   \n",
       "2 2022-04-01   204020  1145.44995  45377900         0.856062  1099.56995   \n",
       "3 2022-05-01   388416   952.62000  48324400         0.858971  1145.44995   \n",
       "4 2022-06-01    78141   775.00000  40931000         0.868556   952.62000   \n",
       "5 2022-07-01    88209   681.78998  24781500         0.863844   775.00000   \n",
       "\n",
       "   perc_change_close  sentiment_score_lag1  perc_change_sentiment  \\\n",
       "1           0.179796              0.865659               0.006519   \n",
       "2           0.041725              0.871303              -0.017491   \n",
       "3          -0.168344              0.856062               0.003397   \n",
       "4          -0.186454              0.858971               0.011159   \n",
       "5          -0.120271              0.868556              -0.005426   \n",
       "\n",
       "   sentiment_SMA3mo  \n",
       "1          0.000000  \n",
       "2          0.864341  \n",
       "3          0.862112  \n",
       "4          0.861197  \n",
       "5          0.863790  "
      ]
     },
     "execution_count": 14,
     "metadata": {},
     "output_type": "execute_result"
    }
   ],
   "source": [
    "# Create lags and %change for closing stock price\n",
    "dfSentiment['close_lag1'] = dfSentiment['close'].shift(1)\n",
    "dfSentiment['close_lag1'] = dfSentiment['close_lag1'].fillna(0)\n",
    "dfSentiment['perc_change_close'] = (dfSentiment['close'] - dfSentiment['close_lag1']) / dfSentiment['close_lag1']\n",
    "dfSentiment['perc_change_close'] = dfSentiment['perc_change_close'].fillna(0)\n",
    "\n",
    "dfSentiment['sentiment_score_lag1'] = dfSentiment['sentiment_score'].shift(1)\n",
    "dfSentiment['sentiment_score_lag1'] = dfSentiment['sentiment_score_lag1'].fillna(0)\n",
    "dfSentiment['perc_change_sentiment'] = (dfSentiment['sentiment_score'] - dfSentiment['sentiment_score_lag1']) / dfSentiment['sentiment_score_lag1']\n",
    "\n",
    "# Calculate 3 month rolling average\n",
    "dfSentiment['sentiment_SMA3mo'] = dfSentiment.sentiment_score.rolling(3).mean()\n",
    "dfSentiment['sentiment_SMA3mo'] = dfSentiment['sentiment_SMA3mo'].fillna(0)\n",
    "\n",
    "dfSentiment = dfSentiment[1:]\n",
    "dfSentiment"
   ]
  },
  {
   "cell_type": "markdown",
   "metadata": {},
   "source": [
    "Let's save our work in a `.csv` for use later in the Streamlit app!"
   ]
  },
  {
   "cell_type": "code",
   "execution_count": 15,
   "metadata": {},
   "outputs": [],
   "source": [
    "# Save DataFrame locally (or somewhere else) for use in Streamlit app\n",
    "dfSentiment.to_csv('./sentiment_data.csv')"
   ]
  },
  {
   "cell_type": "markdown",
   "metadata": {},
   "source": [
    "### Step 8a: Plotting our Results! 📊\n",
    "\n",
    "Now, after all that, let's plot our results and see how they shape up!"
   ]
  },
  {
   "cell_type": "code",
   "execution_count": 16,
   "metadata": {},
   "outputs": [
    {
     "data": {
      "image/png": "[encoded data removed]",
      "text/plain": [
       "<Figure size 432x288 with 2 Axes>"
      ]
     },
     "metadata": {
      "needs_background": "light"
     },
     "output_type": "display_data"
    }
   ],
   "source": [
    "import matplotlib.pyplot as plt\n",
    "\n",
    "ax1 = dfSentiment.plot(kind = 'line', x = 'timestamp',\n",
    "                  y = 'sentiment_score', color = 'Red',\n",
    "                  linewidth = 3)\n",
    "\n",
    "ax2 = dfSentiment.plot(kind = 'line', x = 'timestamp',\n",
    "                   y = 'close', secondary_y = True,\n",
    "                   color = 'Blue',  linewidth = 3,\n",
    "                   ax = ax1) \n",
    "\n",
    "#labeling x and y-axis\n",
    "ax1.set_xlabel('Timestamp', color = 'black')\n",
    "ax1.set_ylabel('Sentiment Score', color = \"r\")\n",
    "ax2.set_ylabel('% Change Stock Price', color = 'b')\n",
    " \n",
    "#defining display layout\n",
    "plt.tight_layout()\n",
    " \n",
    "#show plot\n",
    "plt.show()"
   ]
  }
 ],
 "metadata": {
  "kernelspec": {
   "display_name": "Python 3.8.13 ('tsla_bot')",
   "language": "python",
   "name": "python3"
  },
  "language_info": {
   "codemirror_mode": {
    "name": "ipython",
    "version": 3
   },
   "file_extension": ".py",
   "mimetype": "text/x-python",
   "name": "python",
   "nbconvert_exporter": "python",
   "pygments_lexer": "ipython3",
   "version": "3.8.13"
  },
  "vscode": {
   "interpreter": {
    "hash": "7fc607194c78f50f27b10f37ba93e7bd5dfcb69d2562a46e421481cd58d31f73"
   }
  }
 },
 "nbformat": 4,
 "nbformat_minor": 2
}
